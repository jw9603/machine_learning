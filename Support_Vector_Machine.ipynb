{
  "nbformat": 4,
  "nbformat_minor": 0,
  "metadata": {
    "colab": {
      "name": "Support Vector Machine",
      "provenance": [],
      "include_colab_link": true
    },
    "kernelspec": {
      "name": "python3",
      "display_name": "Python 3"
    }
  },
  "cells": [
    {
      "cell_type": "markdown",
      "metadata": {
        "id": "view-in-github",
        "colab_type": "text"
      },
      "source": [
        "<a href=\"https://colab.research.google.com/github/jw9603/machine_learning/blob/main/Support_Vector_Machine.ipynb\" target=\"_parent\"><img src=\"https://colab.research.google.com/assets/colab-badge.svg\" alt=\"Open In Colab\"/></a>"
      ]
    },
    {
      "cell_type": "markdown",
      "metadata": {
        "id": "5dGW9WmSyQWA"
      },
      "source": [
        "### Download a data file"
      ]
    },
    {
      "cell_type": "code",
      "metadata": {
        "id": "AYw6lfNWyEXp",
        "colab": {
          "base_uri": "https://localhost:8080/"
        },
        "outputId": "dcbbe4c6-a0cf-4578-d3e0-198169c1e4d7"
      },
      "source": [
        "!gdown --id 1qcQOGCaw7_DBxytT4hEulojctuLTgZaI"
      ],
      "execution_count": null,
      "outputs": [
        {
          "output_type": "stream",
          "name": "stdout",
          "text": [
            "/usr/local/lib/python3.7/dist-packages/gdown/cli.py:131: FutureWarning: Option `--id` was deprecated in version 4.3.1 and will be removed in 5.0. You don't need to pass it anymore to use a file ID.\n",
            "  category=FutureWarning,\n",
            "Downloading...\n",
            "From: https://drive.google.com/uc?id=1qcQOGCaw7_DBxytT4hEulojctuLTgZaI\n",
            "To: /content/Default.csv\n",
            "100% 21.9k/21.9k [00:00<00:00, 21.4MB/s]\n"
          ]
        }
      ]
    },
    {
      "cell_type": "markdown",
      "metadata": {
        "id": "H4qr9DsBeQ7j"
      },
      "source": [
        "### Import libraries"
      ]
    },
    {
      "cell_type": "code",
      "metadata": {
        "id": "N0XZfijMeRx0"
      },
      "source": [
        "import pandas as pd\n",
        "from sklearn.model_selection import train_test_split, cross_val_score\n",
        "from sklearn import svm, metrics\n",
        "import numpy as np"
      ],
      "execution_count": null,
      "outputs": []
    },
    {
      "cell_type": "code",
      "metadata": {
        "colab": {
          "base_uri": "https://localhost:8080/"
        },
        "id": "faKzhLnpeU8c",
        "outputId": "6e3cbc74-cc68-45ad-a6f8-9c1d4167adbd"
      },
      "source": [
        "# Load the data file\n",
        "data = pd.read_csv(\"./Default.csv\", header=0)\n",
        "print(data)\n",
        "\n",
        "y_vec = data['default'].to_numpy()\n",
        "x_mat = data[['balance', 'income']].to_numpy()"
      ],
      "execution_count": null,
      "outputs": [
        {
          "output_type": "stream",
          "name": "stdout",
          "text": [
            "     Unnamed: 0  default  student      balance       income\n",
            "0             1        0        0   729.526495  44361.62507\n",
            "1             2        0        1   817.180407  12106.13470\n",
            "2             3        0        0  1073.549164  31767.13895\n",
            "3             4        0        0   529.250605  35704.49394\n",
            "4             5        0        0   785.655883  38463.49588\n",
            "..          ...      ...      ...          ...          ...\n",
            "661        9913        1        0  2148.898454  44309.91717\n",
            "662        9922        1        1  1627.898323  17546.99702\n",
            "663        9950        1        0  1750.253150  51578.94016\n",
            "664        9952        1        0  1515.606239  48688.51209\n",
            "665        9979        1        0  2202.462395  47287.25711\n",
            "\n",
            "[666 rows x 5 columns]\n"
          ]
        }
      ]
    },
    {
      "cell_type": "code",
      "source": [
        "print(y_vec.shape, x_mat.shape)"
      ],
      "metadata": {
        "id": "LE9I8WD3OYDS",
        "outputId": "a5f7eb75-b366-4a7f-847b-0bbebcb90c97",
        "colab": {
          "base_uri": "https://localhost:8080/"
        }
      },
      "execution_count": null,
      "outputs": [
        {
          "output_type": "stream",
          "name": "stdout",
          "text": [
            "(666,) (666, 2)\n"
          ]
        }
      ]
    },
    {
      "cell_type": "markdown",
      "metadata": {
        "id": "cpEQi3HFyn3C"
      },
      "source": [
        "### Basic SVM\n"
      ]
    },
    {
      "cell_type": "code",
      "metadata": {
        "id": "eepMsYHReUBZ"
      },
      "source": [
        "def basic_svm(x_mat, y_vec, rs=108):\n",
        "    x_train, x_test, y_train, y_test = train_test_split(x_mat, y_vec, test_size=0.2, random_state=rs)\n",
        "\n",
        "    clf = svm.SVC()\n",
        "    clf.fit(x_train, y_train)\n",
        "\n",
        "    predicted_y_test = clf.predict(x_test)\n",
        "\n",
        "    accuracy = metrics.accuracy_score(y_test, predicted_y_test)\n",
        "    # https://scikit-learn.org/stable/modules/generated/sklearn.metrics.accuracy_score.html\n",
        "    precision, recall, f1, _ = metrics.precision_recall_fscore_support(y_test, predicted_y_test, average='binary')\n",
        "    # https://scikit-learn.org/stable/modules/generated/sklearn.metrics.precision_recall_fscore_support.html\n",
        "    print(\"Basic SVM\")\n",
        "    print(\"Accuracy: {:.3f}\".format(accuracy))\n",
        "    print(\"Precision: {:.3f}\".format(precision))\n",
        "    print(\"Recall: {:.3f}\".format(recall))\n",
        "    print(\"F1 score: {:.3f}\".format(f1))\n",
        "    print()"
      ],
      "execution_count": null,
      "outputs": []
    },
    {
      "cell_type": "code",
      "metadata": {
        "colab": {
          "base_uri": "https://localhost:8080/"
        },
        "id": "VFfs_qUYedGW",
        "outputId": "614dc546-8a31-44e2-d48e-26b039e9e7c2"
      },
      "source": [
        "basic_svm(x_mat, y_vec)"
      ],
      "execution_count": null,
      "outputs": [
        {
          "output_type": "stream",
          "name": "stdout",
          "text": [
            "Basic SVM\n",
            "Accuracy: 0.575\n",
            "Precision: 0.596\n",
            "Recall: 0.500\n",
            "F1 score: 0.544\n",
            "\n"
          ]
        }
      ]
    },
    {
      "cell_type": "markdown",
      "metadata": {
        "id": "Kc3NkrLqypqR"
      },
      "source": [
        "### Kernels"
      ]
    },
    {
      "cell_type": "code",
      "metadata": {
        "id": "pIan1AXQelSb"
      },
      "source": [
        "def basic_svm_kernel(x_mat, y_vec, kernel='rbf', rs=108):\n",
        "    x_train, x_test, y_train, y_test = train_test_split(x_mat, y_vec, test_size=0.2, random_state=rs)\n",
        "\n",
        "    clf = svm.SVC(kernel=kernel)\n",
        "    clf.fit(x_train, y_train)\n",
        "\n",
        "    predicted_y_test = clf.predict(x_test)\n",
        "\n",
        "    accuracy = metrics.accuracy_score(y_test, predicted_y_test)\n",
        "    precision, recall, f1, _ = metrics.precision_recall_fscore_support(y_test, predicted_y_test, average='binary')\n",
        "\n",
        "    print(\"Basic SVM with kernel - {}\".format(kernel))\n",
        "    print(\"Accuracy: {:.3f}\".format(accuracy))\n",
        "    print(\"Precision: {:.3f}\".format(precision))\n",
        "    print(\"Recall: {:.3f}\".format(recall))\n",
        "    print(\"F1 score: {:.3f}\".format(f1))\n",
        "    print()"
      ],
      "execution_count": null,
      "outputs": []
    },
    {
      "cell_type": "code",
      "metadata": {
        "colab": {
          "base_uri": "https://localhost:8080/"
        },
        "id": "0TH6datjelOW",
        "outputId": "bbe70944-9e4b-4e96-9825-fb12e2ab5f63"
      },
      "source": [
        "basic_svm_kernel(x_mat, y_vec, kernel='linear')\n",
        "\n",
        "basic_svm_kernel(x_mat, y_vec, kernel='poly')\n",
        "\n",
        "basic_svm_kernel(x_mat, y_vec, kernel='rbf')"
      ],
      "execution_count": null,
      "outputs": [
        {
          "output_type": "stream",
          "name": "stdout",
          "text": [
            "Basic SVM with kernel - linear\n",
            "Accuracy: 0.858\n",
            "Precision: 0.845\n",
            "Recall: 0.882\n",
            "F1 score: 0.863\n",
            "\n",
            "Basic SVM with kernel - poly\n",
            "Accuracy: 0.843\n",
            "Precision: 0.813\n",
            "Recall: 0.897\n",
            "F1 score: 0.853\n",
            "\n",
            "Basic SVM with kernel - rbf\n",
            "Accuracy: 0.575\n",
            "Precision: 0.596\n",
            "Recall: 0.500\n",
            "F1 score: 0.544\n",
            "\n"
          ]
        }
      ]
    },
    {
      "cell_type": "markdown",
      "metadata": {
        "id": "41y18xseyznE"
      },
      "source": [
        "\n",
        "### Penalty Parameter"
      ]
    },
    {
      "cell_type": "code",
      "metadata": {
        "id": "HMMq6KyTeo1J"
      },
      "source": [
        "def basic_svm_kernel_penalty(x_mat, y_vec, kernel='rbf', penalty=1.0, rs=108):\n",
        "    x_train, x_test, y_train, y_test = train_test_split(x_mat, y_vec, test_size=0.2, random_state=rs)\n",
        "\n",
        "    clf = svm.SVC(kernel=kernel, C=penalty)\n",
        "    clf.fit(x_train, y_train)\n",
        "\n",
        "    predicted_y_test = clf.predict(x_test)\n",
        "\n",
        "    accuracy = metrics.accuracy_score(y_test, predicted_y_test)\n",
        "    precision, recall, f1, _ = metrics.precision_recall_fscore_support(y_test, predicted_y_test, average='binary')\n",
        "\n",
        "    print(\"Basic SVM with kernel - {} with C - {}\".format(kernel, penalty))\n",
        "    print(\"Accuracy: {:.3f}\".format(accuracy))\n",
        "    print(\"Precision: {:.3f}\".format(precision))\n",
        "    print(\"Recall: {:.3f}\".format(recall))\n",
        "    print(\"F1 score: {:.3f}\".format(f1))\n",
        "    print()"
      ],
      "execution_count": null,
      "outputs": []
    },
    {
      "cell_type": "code",
      "metadata": {
        "colab": {
          "base_uri": "https://localhost:8080/"
        },
        "id": "5nsNNn6deou1",
        "outputId": "e591b30d-7349-4acd-aa87-f3ef01e9d283"
      },
      "source": [
        "basic_svm_kernel_penalty(x_mat, y_vec, kernel='rbf', penalty=0.1)\n",
        "\n",
        "basic_svm_kernel_penalty(x_mat, y_vec, kernel='rbf', penalty=1.0)\n",
        "\n",
        "basic_svm_kernel_penalty(x_mat, y_vec, kernel='rbf', penalty=5.0)\n",
        "\n",
        "basic_svm_kernel_penalty(x_mat, y_vec, kernel='rbf', penalty=10.0)\n",
        "\n",
        "basic_svm_kernel_penalty(x_mat, y_vec, kernel='rbf', penalty=100.0)"
      ],
      "execution_count": null,
      "outputs": [
        {
          "output_type": "stream",
          "name": "stdout",
          "text": [
            "Basic SVM with kernel - rbf with C - 0.1\n",
            "Accuracy: 0.537\n",
            "Precision: 0.556\n",
            "Recall: 0.441\n",
            "F1 score: 0.492\n",
            "\n",
            "Basic SVM with kernel - rbf with C - 1.0\n",
            "Accuracy: 0.575\n",
            "Precision: 0.596\n",
            "Recall: 0.500\n",
            "F1 score: 0.544\n",
            "\n",
            "Basic SVM with kernel - rbf with C - 5.0\n",
            "Accuracy: 0.843\n",
            "Precision: 0.813\n",
            "Recall: 0.897\n",
            "F1 score: 0.853\n",
            "\n",
            "Basic SVM with kernel - rbf with C - 10.0\n",
            "Accuracy: 0.843\n",
            "Precision: 0.813\n",
            "Recall: 0.897\n",
            "F1 score: 0.853\n",
            "\n",
            "Basic SVM with kernel - rbf with C - 100.0\n",
            "Accuracy: 0.851\n",
            "Precision: 0.816\n",
            "Recall: 0.912\n",
            "F1 score: 0.861\n",
            "\n"
          ]
        }
      ]
    },
    {
      "cell_type": "markdown",
      "metadata": {
        "id": "bDdMVae_yXQZ"
      },
      "source": [
        "### Cross Validation\n",
        "\n",
        "\n"
      ]
    },
    {
      "cell_type": "code",
      "metadata": {
        "id": "_T3SC5-WevzQ"
      },
      "source": [
        "def cross_validation_svm(x_mat, y_vec, kernel='rbf', penalty=1.0):\n",
        "    clf = svm.SVC(kernel=kernel, C=penalty)\n",
        "    score_func = metrics.make_scorer(metrics.f1_score, average='binary')\n",
        "    cross_val_score_result = cross_val_score(clf, x_mat, y_vec, scoring=score_func, cv=5)\n",
        "    print(\"Basic SVM with kernel - {} with C - {}\".format(kernel, penalty))\n",
        "    print(\"Avg F1 score: {:.3f}, Std F1 score:{:.3f}\".format(np.mean(cross_val_score_result),\n",
        "                                                             np.std(cross_val_score_result)))\n",
        "    print()\n",
        "    "
      ],
      "execution_count": null,
      "outputs": []
    },
    {
      "cell_type": "code",
      "metadata": {
        "colab": {
          "base_uri": "https://localhost:8080/"
        },
        "id": "55joxPCKevq-",
        "outputId": "a298386b-d148-4d1f-a2da-01af3f5f6789"
      },
      "source": [
        "cross_validation_svm(x_mat, y_vec, kernel='rbf', penalty=0.1)\n",
        "\n",
        "cross_validation_svm(x_mat, y_vec, kernel='rbf', penalty=1.0)\n",
        "\n",
        "cross_validation_svm(x_mat, y_vec, kernel='rbf', penalty=5.0)\n",
        "\n",
        "cross_validation_svm(x_mat, y_vec, kernel='rbf', penalty=10.0)\n",
        "\n",
        "cross_validation_svm(x_mat, y_vec, kernel='rbf', penalty=100.0)"
      ],
      "execution_count": null,
      "outputs": [
        {
          "output_type": "stream",
          "name": "stdout",
          "text": [
            "Basic SVM with kernel - rbf with C - 0.1\n",
            "Avg F1 score: 0.518, Std F1 score:0.055\n",
            "\n",
            "Basic SVM with kernel - rbf with C - 1.0\n",
            "Avg F1 score: 0.572, Std F1 score:0.075\n",
            "\n",
            "Basic SVM with kernel - rbf with C - 5.0\n",
            "Avg F1 score: 0.875, Std F1 score:0.022\n",
            "\n",
            "Basic SVM with kernel - rbf with C - 10.0\n",
            "Avg F1 score: 0.883, Std F1 score:0.013\n",
            "\n",
            "Basic SVM with kernel - rbf with C - 100.0\n",
            "Avg F1 score: 0.883, Std F1 score:0.014\n",
            "\n"
          ]
        }
      ]
    },
    {
      "cell_type": "code",
      "source": [
        ""
      ],
      "metadata": {
        "id": "c_sc5PmsQWGw"
      },
      "execution_count": null,
      "outputs": []
    }
  ]
}