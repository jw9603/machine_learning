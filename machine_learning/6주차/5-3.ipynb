{
 "cells": [
  {
   "cell_type": "markdown",
   "metadata": {
    "id": "zp6fW8MP-mrO"
   },
   "source": [
    "# 트리의 앙상블"
   ]
  },
  {
   "cell_type": "markdown",
   "metadata": {
    "id": "pv1IwHmU-mrU"
   },
   "source": [
    "<table align=\"left\">\n",
    "  <td>\n",
    "    <a target=\"_blank\" href=\"https://colab.research.google.com/github/rickiepark/hg-mldl/blob/master/5-3.ipynb\"><img src=\"https://www.tensorflow.org/images/colab_logo_32px.png\" />구글 코랩에서 실행하기</a>\n",
    "  </td>\n",
    "</table>"
   ]
  },
  {
   "cell_type": "markdown",
   "metadata": {
    "id": "dIaIAizcRSG-"
   },
   "source": [
    "## 랜덤포레스트"
   ]
  },
  {
   "cell_type": "code",
   "execution_count": 2,
   "metadata": {
    "executionInfo": {
     "elapsed": 413,
     "status": "ok",
     "timestamp": 1697812254650,
     "user": {
      "displayName": "정지원",
      "userId": "16823124283758121408"
     },
     "user_tz": -540
    },
    "id": "ioJUlZ0M_uSZ"
   },
   "outputs": [],
   "source": [
    "import numpy as np\n",
    "import pandas as pd\n",
    "from sklearn.model_selection import train_test_split\n",
    "\n",
    "wine = pd.read_csv('https://bit.ly/wine_csv_data')\n",
    "\n",
    "data = wine[['alcohol', 'sugar', 'pH']].to_numpy() # 알코올, 당도, PH를 데이터에 저장\n",
    "target = wine['class'].to_numpy() # class 열을 target에 저장\n",
    "\n",
    "train_input, test_input, train_target, test_target = train_test_split(data, target, test_size=0.2, random_state=42) # 훈련, 테스트 세트를 8:2로 나눔"
   ]
  },
  {
   "cell_type": "code",
   "execution_count": 3,
   "metadata": {
    "colab": {
     "base_uri": "https://localhost:8080/"
    },
    "executionInfo": {
     "elapsed": 4980,
     "status": "ok",
     "timestamp": 1697812259628,
     "user": {
      "displayName": "정지원",
      "userId": "16823124283758121408"
     },
     "user_tz": -540
    },
    "id": "JDKQudr7_8nu",
    "outputId": "a75079fa-8a0c-4d7e-8273-a22fcbcee34c"
   },
   "outputs": [
    {
     "name": "stdout",
     "output_type": "stream",
     "text": [
      "0.9973541965122431 0.8905151032797809\n"
     ]
    }
   ],
   "source": [
    "from sklearn.model_selection import cross_validate\n",
    "from sklearn.ensemble import RandomForestClassifier\n",
    "\n",
    "rf = RandomForestClassifier(n_jobs=-1, random_state=42) # n_jobs=-1로 하여 모든 CPU코어 사용 및 최대한 병렬로 교차 검증 수행\n",
    "scores = cross_validate(rf, train_input, train_target, return_train_score=True, n_jobs=-1) # return_train_score=True를 통해 검증 점수 뿐만 아니라 훈련 세트에 대한 점수도 같이 반환\n",
    "\n",
    "print(np.mean(scores['train_score']), np.mean(scores['test_score'])) # overfitting"
   ]
  },
  {
   "cell_type": "code",
   "execution_count": 4,
   "metadata": {
    "colab": {
     "base_uri": "https://localhost:8080/"
    },
    "executionInfo": {
     "elapsed": 1175,
     "status": "ok",
     "timestamp": 1697812544471,
     "user": {
      "displayName": "정지원",
      "userId": "16823124283758121408"
     },
     "user_tz": -540
    },
    "id": "XYDbzXNLG8fK",
    "outputId": "cb4487da-1cbf-431a-d04f-158464d54afd"
   },
   "outputs": [
    {
     "name": "stdout",
     "output_type": "stream",
     "text": [
      "[0.23167441 0.50039841 0.26792718]\n"
     ]
    }
   ],
   "source": [
    "rf.fit(train_input, train_target) # rf를 훈련\n",
    "print(rf.feature_importances_) # 특성 중요도 출력\n",
    "# 결정트리의 중요도와 다른 결과\n",
    "# -> 랜덤 포레스트가 특성의 일부를 랜덤하게 선택하여 결정트리를 훈련하기 때문\n",
    "# --> 하나의 특성에 과도하게 집중하지 않고 좀 더 많은 특성 훈련에 기여할 기회\n",
    "# --> 과대 적합을 줄이고 성능을 높이는데 도움"
   ]
  },
  {
   "cell_type": "code",
   "execution_count": 5,
   "metadata": {
    "colab": {
     "base_uri": "https://localhost:8080/"
    },
    "executionInfo": {
     "elapsed": 900,
     "status": "ok",
     "timestamp": 1697812704107,
     "user": {
      "displayName": "정지원",
      "userId": "16823124283758121408"
     },
     "user_tz": -540
    },
    "id": "oMc06S1Fa_A-",
    "outputId": "5bc92729-a012-48e9-d7b3-e7e563819fed"
   },
   "outputs": [
    {
     "name": "stdout",
     "output_type": "stream",
     "text": [
      "0.8934000384837406\n"
     ]
    }
   ],
   "source": [
    "rf = RandomForestClassifier(oob_score=True, n_jobs=-1, random_state=42)\n",
    "# oob_score = True를 통해 부트스트랩 샘플에 포함되지 않고 남은 샘플로 결정 트리를 평가\n",
    "# oob 점수를 사용하면 교차 검증을 대신 할 수 있어서 결과적으로 훈련 세트에 더 많은 샘플을 사용가능\n",
    "rf.fit(train_input, train_target)\n",
    "print(rf.oob_score_)"
   ]
  },
  {
   "cell_type": "markdown",
   "metadata": {
    "id": "KdrVoeQZRU14"
   },
   "source": [
    "## 엑스트라트리\n",
    "- 엑스트라 트리는 랜덤 포레스트와 비슷하게 동작\n",
    "- 단, 부트스트랩 샘플을 사용하지 않고 각 결정트리를 만들 때 전체 훈련 세트를 사용\n",
    "- 대신, 노드를 분할할 때 가장 좋은 분할을 찾는 것이 x, 무작위로 분할"
   ]
  },
  {
   "cell_type": "code",
   "execution_count": 6,
   "metadata": {
    "colab": {
     "base_uri": "https://localhost:8080/"
    },
    "executionInfo": {
     "elapsed": 2776,
     "status": "ok",
     "timestamp": 1697812789279,
     "user": {
      "displayName": "정지원",
      "userId": "16823124283758121408"
     },
     "user_tz": -540
    },
    "id": "noMLdywdOGrE",
    "outputId": "71c770c8-2b1e-4901-b99d-d420a32dc469"
   },
   "outputs": [
    {
     "name": "stdout",
     "output_type": "stream",
     "text": [
      "0.9974503966084433 0.8887848893166506\n"
     ]
    }
   ],
   "source": [
    "from sklearn.ensemble import ExtraTreesClassifier\n",
    "\n",
    "et = ExtraTreesClassifier(n_jobs=-1, random_state=42)\n",
    "scores = cross_validate(et, train_input, train_target, return_train_score=True, n_jobs=-1)\n",
    "\n",
    "print(np.mean(scores['train_score']), np.mean(scores['test_score']))"
   ]
  },
  {
   "cell_type": "code",
   "execution_count": 7,
   "metadata": {
    "colab": {
     "base_uri": "https://localhost:8080/"
    },
    "executionInfo": {
     "elapsed": 796,
     "status": "ok",
     "timestamp": 1697813339757,
     "user": {
      "displayName": "정지원",
      "userId": "16823124283758121408"
     },
     "user_tz": -540
    },
    "id": "HnB0_mBqfcXL",
    "outputId": "be9aae2a-7578-40a9-db49-f0c34fe83775"
   },
   "outputs": [
    {
     "name": "stdout",
     "output_type": "stream",
     "text": [
      "[0.20183568 0.52242907 0.27573525]\n"
     ]
    }
   ],
   "source": [
    "et.fit(train_input, train_target) # 엑스트라 트리는 무작위성이 좀 더 크기 때문에 랜덤 포레스트보다 더 많은 결정 트리를 훈련해야 함\n",
    "print(et.feature_importances_) # 하지만, 랜덤하게 노드를 분할하기 때문에 빠른 계산속도가 엑스트라 트리의 장점"
   ]
  },
  {
   "cell_type": "markdown",
   "metadata": {
    "id": "csKxnaxeRX8s"
   },
   "source": [
    "## 그레이디언트 부스팅\n",
    "- 그래디언트 부스팅은 깊이가 얕은 결정 트리를 사용하여 이전 트리의 잔차를 보완하는 방식으로 앙상블 하는 방법\n",
    "- GradientBoostingClassifier는 기본적으로 깊이가 3인 결정 트리를 100개 사용\n",
    "    - 과대 적합에 강하고, 높은 일반화 성능을 기대 가능\n",
    "- 경사 하강법으로 트리를 앙상블에 추가\n",
    "    - 분류에서는 로지스틱 손실 함수 사용\n",
    "    - 회귀에서는 평균 제곱 오차 함수 사용"
   ]
  },
  {
   "cell_type": "code",
   "execution_count": 8,
   "metadata": {
    "colab": {
     "base_uri": "https://localhost:8080/"
    },
    "executionInfo": {
     "elapsed": 2555,
     "status": "ok",
     "timestamp": 1697813476640,
     "user": {
      "displayName": "정지원",
      "userId": "16823124283758121408"
     },
     "user_tz": -540
    },
    "id": "_IlNEFkaNsoG",
    "outputId": "8eb8cb93-b231-4c43-fb54-5e843aef00e9"
   },
   "outputs": [
    {
     "name": "stdout",
     "output_type": "stream",
     "text": [
      "0.8881086892152563 0.8720430147331015\n"
     ]
    }
   ],
   "source": [
    "from sklearn.ensemble import GradientBoostingClassifier\n",
    "\n",
    "gb = GradientBoostingClassifier(random_state=42)\n",
    "scores = cross_validate(gb, train_input, train_target, return_train_score=True, n_jobs=-1)\n",
    "\n",
    "print(np.mean(scores['train_score']), np.mean(scores['test_score']))"
   ]
  },
  {
   "cell_type": "code",
   "execution_count": 9,
   "metadata": {
    "colab": {
     "base_uri": "https://localhost:8080/"
    },
    "executionInfo": {
     "elapsed": 7543,
     "status": "ok",
     "timestamp": 1697813557227,
     "user": {
      "displayName": "정지원",
      "userId": "16823124283758121408"
     },
     "user_tz": -540
    },
    "id": "pNpeS8EWpeEi",
    "outputId": "ebd10a35-089a-4c08-db2c-40af0f8d087f"
   },
   "outputs": [
    {
     "name": "stdout",
     "output_type": "stream",
     "text": [
      "0.9464595437171814 0.8780082549788999\n"
     ]
    }
   ],
   "source": [
    "gb = GradientBoostingClassifier(n_estimators=500, learning_rate=0.2, random_state=42) # n_estimators=500으로 하여 결정 트리 개수를 500으로 5배 늘림\n",
    "scores = cross_validate(gb, train_input, train_target, return_train_score=True, n_jobs=-1)\n",
    "\n",
    "print(np.mean(scores['train_score']), np.mean(scores['test_score']))"
   ]
  },
  {
   "cell_type": "code",
   "execution_count": 10,
   "metadata": {
    "colab": {
     "base_uri": "https://localhost:8080/"
    },
    "executionInfo": {
     "elapsed": 2525,
     "status": "ok",
     "timestamp": 1697813585959,
     "user": {
      "displayName": "정지원",
      "userId": "16823124283758121408"
     },
     "user_tz": -540
    },
    "id": "qD6iWVsGqCAE",
    "outputId": "200f6bde-95df-4d96-bb26-1f594bfac13e"
   },
   "outputs": [
    {
     "name": "stdout",
     "output_type": "stream",
     "text": [
      "[0.15872278 0.68010884 0.16116839]\n"
     ]
    }
   ],
   "source": [
    "gb.fit(train_input, train_target)\n",
    "print(gb.feature_importances_)\n",
    "# 그래디언트 부스팅이 랜덤 포레스트보다 일부 특성(당도)에 더 집중\n",
    "# 랜덤포레스트보다 조금 더 높은 성능, 하지만 순서대로 트리를 추가하기 때문에 훈련 속도가 느림\n",
    "# subsample이라는 매개변수도 존재\n",
    "# -> 기본값은 1.0으로 전체 훈련 세트를 사용하지만, 1보다 작으면 훈련 세트의 일부를 사용"
   ]
  },
  {
   "cell_type": "markdown",
   "metadata": {
    "id": "BthW_II9RbLa"
   },
   "source": [
    "## 히스토그램 기반 부스팅"
   ]
  },
  {
   "cell_type": "markdown",
   "metadata": {
    "id": "8fz_FrezBezR"
   },
   "source": [
    "#### XGBoost"
   ]
  },
  {
   "cell_type": "code",
   "execution_count": 11,
   "metadata": {
    "colab": {
     "base_uri": "https://localhost:8080/"
    },
    "executionInfo": {
     "elapsed": 1574,
     "status": "ok",
     "timestamp": 1697813781043,
     "user": {
      "displayName": "정지원",
      "userId": "16823124283758121408"
     },
     "user_tz": -540
    },
    "id": "YBYLvOiV6rga",
    "outputId": "7ecb32f3-0268-4913-b558-a58af15659f3"
   },
   "outputs": [
    {
     "name": "stdout",
     "output_type": "stream",
     "text": [
      "0.9558403027491312 0.8782000074035686\n"
     ]
    }
   ],
   "source": [
    "from xgboost import XGBClassifier\n",
    "\n",
    "xgb = XGBClassifier(tree_method='hist', random_state=42)\n",
    "# tree_method(트리 빌딩방법) : split point를 잡을 때 히스토그램의 사용 여부\n",
    "scores = cross_validate(xgb, train_input, train_target, return_train_score=True, n_jobs=-1)\n",
    "\n",
    "print(np.mean(scores['train_score']), np.mean(scores['test_score']))"
   ]
  },
  {
   "cell_type": "markdown",
   "metadata": {
    "id": "zl6nh6DOBd-B"
   },
   "source": [
    "#### LightGBM"
   ]
  },
  {
   "cell_type": "code",
   "execution_count": 12,
   "metadata": {
    "colab": {
     "base_uri": "https://localhost:8080/"
    },
    "executionInfo": {
     "elapsed": 4356,
     "status": "ok",
     "timestamp": 1697813787397,
     "user": {
      "displayName": "정지원",
      "userId": "16823124283758121408"
     },
     "user_tz": -540
    },
    "id": "maihlDMP7lmY",
    "outputId": "84cd3f73-f733-4de1-aa79-ced48564186e"
   },
   "outputs": [
    {
     "name": "stdout",
     "output_type": "stream",
     "text": [
      "0.935828414851749 0.8801251203079884\n"
     ]
    }
   ],
   "source": [
    "from lightgbm import LGBMClassifier\n",
    "\n",
    "lgb = LGBMClassifier(random_state=42)\n",
    "scores = cross_validate(lgb, train_input, train_target, return_train_score=True, n_jobs=-1)\n",
    "\n",
    "print(np.mean(scores['train_score']), np.mean(scores['test_score']))"
   ]
  },
  {
   "cell_type": "code",
   "execution_count": null,
   "metadata": {
    "id": "Cizn7lnull3P"
   },
   "outputs": [],
   "source": []
  }
 ],
 "metadata": {
  "accelerator": "GPU",
  "colab": {
   "gpuType": "T4",
   "provenance": []
  },
  "kernelspec": {
   "display_name": "Python 3 (ipykernel)",
   "language": "python",
   "name": "python3"
  },
  "language_info": {
   "codemirror_mode": {
    "name": "ipython",
    "version": 3
   },
   "file_extension": ".py",
   "mimetype": "text/x-python",
   "name": "python",
   "nbconvert_exporter": "python",
   "pygments_lexer": "ipython3",
   "version": "3.9.12"
  }
 },
 "nbformat": 4,
 "nbformat_minor": 1
}
