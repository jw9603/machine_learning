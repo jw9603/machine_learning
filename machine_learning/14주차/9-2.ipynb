{
 "cells": [
  {
   "cell_type": "markdown",
   "metadata": {
    "id": "MusV5YYT6kQF"
   },
   "source": [
    "# 순환 신경망으로 IMDB 리뷰 분류하기"
   ]
  },
  {
   "cell_type": "markdown",
   "metadata": {
    "id": "9uYfRb5-6kQQ"
   },
   "source": [
    "<table align=\"left\">\n",
    "  <td>\n",
    "    <a target=\"_blank\" href=\"https://colab.research.google.com/github/rickiepark/hg-mldl/blob/master/9-2.ipynb\"><img src=\"https://www.tensorflow.org/images/colab_logo_32px.png\" />구글 코랩에서 실행하기</a>\n",
    "  </td>\n",
    "</table>"
   ]
  },
  {
   "cell_type": "markdown",
   "metadata": {
    "id": "S1A-DDIQ6kQQ"
   },
   "source": [
    "## IMDB 리뷰 데이터셋"
   ]
  },
  {
   "cell_type": "code",
   "execution_count": 4,
   "metadata": {
    "execution": {
     "iopub.execute_input": "2020-10-12T01:18:41.979392Z",
     "iopub.status.busy": "2020-10-12T01:18:41.978299Z",
     "iopub.status.idle": "2020-10-12T01:18:52.473300Z",
     "shell.execute_reply": "2020-10-12T01:18:52.471703Z"
    },
    "executionInfo": {
     "elapsed": 5133,
     "status": "ok",
     "timestamp": 1702272409372,
     "user": {
      "displayName": "정지원",
      "userId": "16823124283758121408"
     },
     "user_tz": -540
    },
    "id": "sZoZm1ZO6kQR"
   },
   "outputs": [],
   "source": [
    "from tensorflow.keras.datasets import imdb\n",
    "\n",
    "(train_input, train_target), (test_input, test_target) = imdb.load_data(\n",
    "    num_words=500)\n",
    "# 훈련 세트와 테스트 세트를 다운\n",
    "# num_words=500으로 데이터셋에서 가장 자주 등장하는 단어 500개만 사용"
   ]
  },
  {
   "cell_type": "code",
   "execution_count": 5,
   "metadata": {
    "colab": {
     "base_uri": "https://localhost:8080/"
    },
    "execution": {
     "iopub.execute_input": "2020-10-12T01:18:52.481400Z",
     "iopub.status.busy": "2020-10-12T01:18:52.479645Z",
     "iopub.status.idle": "2020-10-12T01:18:52.485658Z",
     "shell.execute_reply": "2020-10-12T01:18:52.486465Z"
    },
    "executionInfo": {
     "elapsed": 1,
     "status": "ok",
     "timestamp": 1702272409372,
     "user": {
      "displayName": "정지원",
      "userId": "16823124283758121408"
     },
     "user_tz": -540
    },
    "id": "HTFjz6k06kQR",
    "outputId": "75afcf42-1ca0-4a51-eedf-5e5e6270dbd0"
   },
   "outputs": [
    {
     "name": "stdout",
     "output_type": "stream",
     "text": [
      "(25000,) (25000,)\n"
     ]
    }
   ],
   "source": [
    "print(train_input.shape, test_input.shape)"
   ]
  },
  {
   "cell_type": "code",
   "execution_count": 6,
   "metadata": {
    "colab": {
     "base_uri": "https://localhost:8080/"
    },
    "execution": {
     "iopub.execute_input": "2020-10-12T01:18:52.493608Z",
     "iopub.status.busy": "2020-10-12T01:18:52.492625Z",
     "iopub.status.idle": "2020-10-12T01:18:52.496804Z",
     "shell.execute_reply": "2020-10-12T01:18:52.497722Z"
    },
    "executionInfo": {
     "elapsed": 531,
     "status": "ok",
     "timestamp": 1702272409902,
     "user": {
      "displayName": "정지원",
      "userId": "16823124283758121408"
     },
     "user_tz": -540
    },
    "id": "4jMLURzw6kQS",
    "outputId": "f5507a6f-6c25-455f-8fda-b623b90566a9"
   },
   "outputs": [
    {
     "name": "stdout",
     "output_type": "stream",
     "text": [
      "218\n"
     ]
    }
   ],
   "source": [
    "print(len(train_input[0])) # 첫 번째 데이터 길이 출력"
   ]
  },
  {
   "cell_type": "code",
   "execution_count": 7,
   "metadata": {
    "colab": {
     "base_uri": "https://localhost:8080/"
    },
    "execution": {
     "iopub.execute_input": "2020-10-12T01:18:52.504933Z",
     "iopub.status.busy": "2020-10-12T01:18:52.503811Z",
     "iopub.status.idle": "2020-10-12T01:18:52.508252Z",
     "shell.execute_reply": "2020-10-12T01:18:52.509172Z"
    },
    "executionInfo": {
     "elapsed": 2,
     "status": "ok",
     "timestamp": 1702272409902,
     "user": {
      "displayName": "정지원",
      "userId": "16823124283758121408"
     },
     "user_tz": -540
    },
    "id": "xdO834PL6kQT",
    "outputId": "2050c2d5-8a83-4927-9086-33aa38f5c3e3"
   },
   "outputs": [
    {
     "name": "stdout",
     "output_type": "stream",
     "text": [
      "189\n"
     ]
    }
   ],
   "source": [
    "print(len(train_input[1])) # 두번째 리뷰의 길이 출력"
   ]
  },
  {
   "cell_type": "code",
   "execution_count": 8,
   "metadata": {
    "colab": {
     "base_uri": "https://localhost:8080/"
    },
    "execution": {
     "iopub.execute_input": "2020-10-12T01:18:52.516102Z",
     "iopub.status.busy": "2020-10-12T01:18:52.515014Z",
     "iopub.status.idle": "2020-10-12T01:18:52.520096Z",
     "shell.execute_reply": "2020-10-12T01:18:52.520972Z"
    },
    "executionInfo": {
     "elapsed": 2,
     "status": "ok",
     "timestamp": 1702272409902,
     "user": {
      "displayName": "정지원",
      "userId": "16823124283758121408"
     },
     "user_tz": -540
    },
    "id": "QNuzGQ2c6kQT",
    "outputId": "b151d326-33dc-41ca-ce35-10a23599e166"
   },
   "outputs": [
    {
     "name": "stdout",
     "output_type": "stream",
     "text": [
      "[1, 14, 22, 16, 43, 2, 2, 2, 2, 65, 458, 2, 66, 2, 4, 173, 36, 256, 5, 25, 100, 43, 2, 112, 50, 2, 2, 9, 35, 480, 284, 5, 150, 4, 172, 112, 167, 2, 336, 385, 39, 4, 172, 2, 2, 17, 2, 38, 13, 447, 4, 192, 50, 16, 6, 147, 2, 19, 14, 22, 4, 2, 2, 469, 4, 22, 71, 87, 12, 16, 43, 2, 38, 76, 15, 13, 2, 4, 22, 17, 2, 17, 12, 16, 2, 18, 2, 5, 62, 386, 12, 8, 316, 8, 106, 5, 4, 2, 2, 16, 480, 66, 2, 33, 4, 130, 12, 16, 38, 2, 5, 25, 124, 51, 36, 135, 48, 25, 2, 33, 6, 22, 12, 215, 28, 77, 52, 5, 14, 407, 16, 82, 2, 8, 4, 107, 117, 2, 15, 256, 4, 2, 7, 2, 5, 2, 36, 71, 43, 2, 476, 26, 400, 317, 46, 7, 4, 2, 2, 13, 104, 88, 4, 381, 15, 297, 98, 32, 2, 56, 26, 141, 6, 194, 2, 18, 4, 226, 22, 21, 134, 476, 26, 480, 5, 144, 30, 2, 18, 51, 36, 28, 224, 92, 25, 104, 4, 226, 65, 16, 38, 2, 88, 12, 16, 283, 5, 16, 2, 113, 103, 32, 15, 16, 2, 19, 178, 32]\n"
     ]
    }
   ],
   "source": [
    "print(train_input[0]) # 첫번째 데이터에 담긴 내용 출력"
   ]
  },
  {
   "cell_type": "code",
   "execution_count": 9,
   "metadata": {
    "colab": {
     "base_uri": "https://localhost:8080/"
    },
    "execution": {
     "iopub.execute_input": "2020-10-12T01:18:52.528598Z",
     "iopub.status.busy": "2020-10-12T01:18:52.527510Z",
     "iopub.status.idle": "2020-10-12T01:18:52.532011Z",
     "shell.execute_reply": "2020-10-12T01:18:52.532936Z"
    },
    "executionInfo": {
     "elapsed": 1,
     "status": "ok",
     "timestamp": 1702272409902,
     "user": {
      "displayName": "정지원",
      "userId": "16823124283758121408"
     },
     "user_tz": -540
    },
    "id": "In8Qzltz6kQT",
    "outputId": "b6fff8ca-05f5-4cde-c6e3-025d3ba3088e"
   },
   "outputs": [
    {
     "name": "stdout",
     "output_type": "stream",
     "text": [
      "[1 0 0 1 0 0 1 0 1 0 1 0 0 0 0 0 1 1 0 1]\n"
     ]
    }
   ],
   "source": [
    "print(train_target[:20]) # 타겟 데이터 출력(부정:0, 긍정:1)"
   ]
  },
  {
   "cell_type": "code",
   "execution_count": 10,
   "metadata": {
    "execution": {
     "iopub.execute_input": "2020-10-12T01:18:52.541031Z",
     "iopub.status.busy": "2020-10-12T01:18:52.539873Z",
     "iopub.status.idle": "2020-10-12T01:18:52.812559Z",
     "shell.execute_reply": "2020-10-12T01:18:52.810985Z"
    },
    "executionInfo": {
     "elapsed": 359,
     "status": "ok",
     "timestamp": 1702272410260,
     "user": {
      "displayName": "정지원",
      "userId": "16823124283758121408"
     },
     "user_tz": -540
    },
    "id": "0-zjNgBw6kQU"
   },
   "outputs": [],
   "source": [
    "from sklearn.model_selection import train_test_split\n",
    "\n",
    "train_input, val_input, train_target, val_target = train_test_split(\n",
    "    train_input, train_target, test_size=0.2, random_state=42)\n",
    "# 훈련, 검증 세트를 8:2로 나눔"
   ]
  },
  {
   "cell_type": "code",
   "execution_count": 11,
   "metadata": {
    "execution": {
     "iopub.execute_input": "2020-10-12T01:18:52.833360Z",
     "iopub.status.busy": "2020-10-12T01:18:52.831841Z",
     "iopub.status.idle": "2020-10-12T01:18:52.834920Z",
     "shell.execute_reply": "2020-10-12T01:18:52.836117Z"
    },
    "executionInfo": {
     "elapsed": 2,
     "status": "ok",
     "timestamp": 1702272410260,
     "user": {
      "displayName": "정지원",
      "userId": "16823124283758121408"
     },
     "user_tz": -540
    },
    "id": "sRVvgntx6kQU"
   },
   "outputs": [],
   "source": [
    "import numpy as np\n",
    "\n",
    "lengths = np.array([len(x) for x in train_input])\n",
    "# 데이터들의 길이를 넘파이 배열 형태로 저장"
   ]
  },
  {
   "cell_type": "code",
   "execution_count": 12,
   "metadata": {
    "colab": {
     "base_uri": "https://localhost:8080/"
    },
    "execution": {
     "iopub.execute_input": "2020-10-12T01:18:52.843759Z",
     "iopub.status.busy": "2020-10-12T01:18:52.842297Z",
     "iopub.status.idle": "2020-10-12T01:18:52.847506Z",
     "shell.execute_reply": "2020-10-12T01:18:52.848361Z"
    },
    "executionInfo": {
     "elapsed": 2,
     "status": "ok",
     "timestamp": 1702272410260,
     "user": {
      "displayName": "정지원",
      "userId": "16823124283758121408"
     },
     "user_tz": -540
    },
    "id": "p76m_61w6kQU",
    "outputId": "e9a80f46-854b-4ea1-f7c5-f900809a8470"
   },
   "outputs": [
    {
     "name": "stdout",
     "output_type": "stream",
     "text": [
      "239.00925 178.0\n"
     ]
    }
   ],
   "source": [
    "print(np.mean(lengths), np.median(lengths))"
   ]
  },
  {
   "cell_type": "code",
   "execution_count": 13,
   "metadata": {
    "colab": {
     "base_uri": "https://localhost:8080/",
     "height": 449
    },
    "execution": {
     "iopub.execute_input": "2020-10-12T01:18:52.874891Z",
     "iopub.status.busy": "2020-10-12T01:18:52.873857Z",
     "iopub.status.idle": "2020-10-12T01:18:53.042560Z",
     "shell.execute_reply": "2020-10-12T01:18:53.040898Z"
    },
    "executionInfo": {
     "elapsed": 682,
     "status": "ok",
     "timestamp": 1702272410941,
     "user": {
      "displayName": "정지원",
      "userId": "16823124283758121408"
     },
     "user_tz": -540
    },
    "id": "TVDrsRYF6kQV",
    "outputId": "263b2f2e-ca89-4609-8ce4-4bc895769481"
   },
   "outputs": [
    {
     "data": {
      "image/png": "[encoded data removed]",
      "text/plain": [
       "<Figure size 640x480 with 1 Axes>"
      ]
     },
     "metadata": {},
     "output_type": "display_data"
    }
   ],
   "source": [
    "import matplotlib.pyplot as plt\n",
    "\n",
    "plt.hist(lengths)\n",
    "plt.xlabel('length')\n",
    "plt.ylabel('frequency')\n",
    "plt.show()"
   ]
  },
  {
   "cell_type": "code",
   "execution_count": 14,
   "metadata": {
    "execution": {
     "iopub.execute_input": "2020-10-12T01:18:53.056410Z",
     "iopub.status.busy": "2020-10-12T01:18:53.054676Z",
     "iopub.status.idle": "2020-10-12T01:18:53.509881Z",
     "shell.execute_reply": "2020-10-12T01:18:53.507938Z"
    },
    "executionInfo": {
     "elapsed": 3,
     "status": "ok",
     "timestamp": 1702272410941,
     "user": {
      "displayName": "정지원",
      "userId": "16823124283758121408"
     },
     "user_tz": -540
    },
    "id": "fbLSFToP6kQV"
   },
   "outputs": [],
   "source": [
    "from tensorflow.keras.preprocessing.sequence import pad_sequences\n",
    "\n",
    "train_seq = pad_sequences(train_input, maxlen=100)\n",
    "# maxlen=100으로 설정하여 train_input의 길이를 100으로 맞춤"
   ]
  },
  {
   "cell_type": "code",
   "execution_count": 15,
   "metadata": {
    "colab": {
     "base_uri": "https://localhost:8080/"
    },
    "execution": {
     "iopub.execute_input": "2020-10-12T01:18:53.516113Z",
     "iopub.status.busy": "2020-10-12T01:18:53.514858Z",
     "iopub.status.idle": "2020-10-12T01:18:53.519062Z",
     "shell.execute_reply": "2020-10-12T01:18:53.520171Z"
    },
    "executionInfo": {
     "elapsed": 3,
     "status": "ok",
     "timestamp": 1702272410941,
     "user": {
      "displayName": "정지원",
      "userId": "16823124283758121408"
     },
     "user_tz": -540
    },
    "id": "3c86x0Yj6kQV",
    "outputId": "890efec0-8344-44b9-fe40-91d58df3fb65"
   },
   "outputs": [
    {
     "name": "stdout",
     "output_type": "stream",
     "text": [
      "(20000, 100)\n"
     ]
    }
   ],
   "source": [
    "print(train_seq.shape)"
   ]
  },
  {
   "cell_type": "code",
   "execution_count": 16,
   "metadata": {
    "colab": {
     "base_uri": "https://localhost:8080/"
    },
    "execution": {
     "iopub.execute_input": "2020-10-12T01:18:53.529088Z",
     "iopub.status.busy": "2020-10-12T01:18:53.527775Z",
     "iopub.status.idle": "2020-10-12T01:18:53.532885Z",
     "shell.execute_reply": "2020-10-12T01:18:53.533957Z"
    },
    "executionInfo": {
     "elapsed": 4,
     "status": "ok",
     "timestamp": 1702272410942,
     "user": {
      "displayName": "정지원",
      "userId": "16823124283758121408"
     },
     "user_tz": -540
    },
    "id": "JuP0QJaU6kQW",
    "outputId": "8190cb0e-6fa2-448d-f5f9-e46b75451465"
   },
   "outputs": [
    {
     "name": "stdout",
     "output_type": "stream",
     "text": [
      "[ 10   4  20   9   2 364 352   5  45   6   2   2  33 269   8   2 142   2\n",
      "   5   2  17  73  17 204   5   2  19  55   2   2  92  66 104  14  20  93\n",
      "  76   2 151  33   4  58  12 188   2 151  12 215  69 224 142  73 237   6\n",
      "   2   7   2   2 188   2 103  14  31  10  10 451   7   2   5   2  80  91\n",
      "   2  30   2  34  14  20 151  50  26 131  49   2  84  46  50  37  80  79\n",
      "   6   2  46   7  14  20  10  10 470 158]\n"
     ]
    }
   ],
   "source": [
    "print(train_seq[0]) # 패딩값인 0이 없는것으로 보아 100보다 길었던 값임을 추측 가능"
   ]
  },
  {
   "cell_type": "code",
   "execution_count": 17,
   "metadata": {
    "colab": {
     "base_uri": "https://localhost:8080/"
    },
    "execution": {
     "iopub.execute_input": "2020-10-12T01:18:53.541335Z",
     "iopub.status.busy": "2020-10-12T01:18:53.540161Z",
     "iopub.status.idle": "2020-10-12T01:18:53.544735Z",
     "shell.execute_reply": "2020-10-12T01:18:53.545765Z"
    },
    "executionInfo": {
     "elapsed": 3,
     "status": "ok",
     "timestamp": 1702272411473,
     "user": {
      "displayName": "정지원",
      "userId": "16823124283758121408"
     },
     "user_tz": -540
    },
    "id": "6t8kaDji6kQW",
    "outputId": "7e2fcc71-3dd5-4c09-ac94-38ac64b7c89f"
   },
   "outputs": [
    {
     "name": "stdout",
     "output_type": "stream",
     "text": [
      "[6, 2, 46, 7, 14, 20, 10, 10, 470, 158]\n"
     ]
    }
   ],
   "source": [
    "print(train_input[0][-10:])\n",
    "# train_input의 첫번째 샘플의 끝부분을 출력\n",
    "# train_Seq의 끝부분과 일치하므로 train_seq의 앞부분이 잘렸음을 확인"
   ]
  },
  {
   "cell_type": "code",
   "execution_count": 18,
   "metadata": {
    "colab": {
     "base_uri": "https://localhost:8080/"
    },
    "execution": {
     "iopub.execute_input": "2020-10-12T01:18:53.553993Z",
     "iopub.status.busy": "2020-10-12T01:18:53.552689Z",
     "iopub.status.idle": "2020-10-12T01:18:53.557009Z",
     "shell.execute_reply": "2020-10-12T01:18:53.558118Z"
    },
    "executionInfo": {
     "elapsed": 2,
     "status": "ok",
     "timestamp": 1702272411473,
     "user": {
      "displayName": "정지원",
      "userId": "16823124283758121408"
     },
     "user_tz": -540
    },
    "id": "Emmoztwa6kQX",
    "outputId": "9e70a7e0-ccc1-4daf-e471-f1957a519838",
    "scrolled": true
   },
   "outputs": [
    {
     "name": "stdout",
     "output_type": "stream",
     "text": [
      "[  0   0   0   0   1   2 195  19  49   2   2 190   4   2 352   2 183  10\n",
      "  10  13  82  79   4   2  36  71 269   8   2  25  19  49   7   4   2   2\n",
      "   2   2   2  10  10  48  25  40   2  11   2   2  40   2   2   5   4   2\n",
      "   2  95  14 238  56 129   2  10  10  21   2  94 364 352   2   2  11 190\n",
      "  24 484   2   7  94 205 405  10  10  87   2  34  49   2   7   2   2   2\n",
      "   2   2 290   2  46  48  64  18   4   2]\n"
     ]
    }
   ],
   "source": [
    "print(train_seq[5]) # train_seq의 6번째 데이터 출력"
   ]
  },
  {
   "cell_type": "code",
   "execution_count": 19,
   "metadata": {
    "execution": {
     "iopub.execute_input": "2020-10-12T01:18:53.568279Z",
     "iopub.status.busy": "2020-10-12T01:18:53.566949Z",
     "iopub.status.idle": "2020-10-12T01:18:53.688571Z",
     "shell.execute_reply": "2020-10-12T01:18:53.687412Z"
    },
    "executionInfo": {
     "elapsed": 1,
     "status": "ok",
     "timestamp": 1702272411473,
     "user": {
      "displayName": "정지원",
      "userId": "16823124283758121408"
     },
     "user_tz": -540
    },
    "id": "ZeFmsjOd6kQX"
   },
   "outputs": [],
   "source": [
    "val_seq = pad_sequences(val_input, maxlen=100)\n",
    "# 검증 세트의 길이도 100으로 맞춤"
   ]
  },
  {
   "cell_type": "markdown",
   "metadata": {
    "id": "9xab0nu_6kQX"
   },
   "source": [
    "## 순환 신경망 만들기"
   ]
  },
  {
   "cell_type": "code",
   "execution_count": 20,
   "metadata": {
    "execution": {
     "iopub.execute_input": "2020-10-12T01:18:53.702727Z",
     "iopub.status.busy": "2020-10-12T01:18:53.694374Z",
     "iopub.status.idle": "2020-10-12T01:18:55.997285Z",
     "shell.execute_reply": "2020-10-12T01:18:55.995617Z"
    },
    "executionInfo": {
     "elapsed": 4120,
     "status": "ok",
     "timestamp": 1702272417097,
     "user": {
      "displayName": "정지원",
      "userId": "16823124283758121408"
     },
     "user_tz": -540
    },
    "id": "45BtHGKX6kQX"
   },
   "outputs": [],
   "source": [
    "from tensorflow import keras\n",
    "\n",
    "model = keras.Sequential()\n",
    "\n",
    "model.add(keras.layers.SimpleRNN(8, input_shape=(100, 500)))\n",
    "# model에 simpleRNN층을 추가 input_shape=(100,500)으로 설정\n",
    "model.add(keras.layers.Dense(1, activation='sigmoid'))\n",
    "# 이진 분류이기 때문에 1개의 뉴련과 시그모이드 함수를 사용"
   ]
  },
  {
   "cell_type": "code",
   "execution_count": 19,
   "metadata": {
    "execution": {
     "iopub.execute_input": "2020-10-12T01:18:56.004523Z",
     "iopub.status.busy": "2020-10-12T01:18:56.002786Z",
     "iopub.status.idle": "2020-10-12T01:18:57.766487Z",
     "shell.execute_reply": "2020-10-12T01:18:57.764928Z"
    },
    "executionInfo": {
     "elapsed": 2123,
     "status": "ok",
     "timestamp": 1702272272309,
     "user": {
      "displayName": "정지원",
      "userId": "16823124283758121408"
     },
     "user_tz": -540
    },
    "id": "oXIWyOuw6kQY"
   },
   "outputs": [],
   "source": [
    "train_oh = keras.utils.to_categorical(train_seq)\n",
    "# 원핫인코딩 적용"
   ]
  },
  {
   "cell_type": "code",
   "execution_count": 20,
   "metadata": {
    "colab": {
     "base_uri": "https://localhost:8080/"
    },
    "execution": {
     "iopub.execute_input": "2020-10-12T01:18:57.774226Z",
     "iopub.status.busy": "2020-10-12T01:18:57.772482Z",
     "iopub.status.idle": "2020-10-12T01:18:57.777731Z",
     "shell.execute_reply": "2020-10-12T01:18:57.778538Z"
    },
    "executionInfo": {
     "elapsed": 2,
     "status": "ok",
     "timestamp": 1702272272309,
     "user": {
      "displayName": "정지원",
      "userId": "16823124283758121408"
     },
     "user_tz": -540
    },
    "id": "VD94WiRT6kQY",
    "outputId": "4233c7ba-6f87-40f9-8573-305cfebb46b6"
   },
   "outputs": [
    {
     "name": "stdout",
     "output_type": "stream",
     "text": [
      "(20000, 100, 500)\n"
     ]
    }
   ],
   "source": [
    "print(train_oh.shape)"
   ]
  },
  {
   "cell_type": "code",
   "execution_count": 22,
   "metadata": {
    "colab": {
     "base_uri": "https://localhost:8080/"
    },
    "execution": {
     "iopub.execute_input": "2020-10-12T01:18:57.786369Z",
     "iopub.status.busy": "2020-10-12T01:18:57.785416Z",
     "iopub.status.idle": "2020-10-12T01:18:57.790217Z",
     "shell.execute_reply": "2020-10-12T01:18:57.791183Z"
    },
    "executionInfo": {
     "elapsed": 2,
     "status": "ok",
     "timestamp": 1702272288856,
     "user": {
      "displayName": "정지원",
      "userId": "16823124283758121408"
     },
     "user_tz": -540
    },
    "id": "VIVSHwJg6kQY",
    "outputId": "c1ebd03c-4de7-4ec3-d337-7f7e429ba886"
   },
   "outputs": [
    {
     "name": "stdout",
     "output_type": "stream",
     "text": [
      "[0. 0. 0. 0. 0. 0. 0. 0. 0. 0. 1. 0.]\n"
     ]
    }
   ],
   "source": [
    "print(train_oh[0][0][:12])\n",
    "# 첫번째 샘플의 첫번째 토큰 10출력"
   ]
  },
  {
   "cell_type": "code",
   "execution_count": 23,
   "metadata": {
    "colab": {
     "base_uri": "https://localhost:8080/"
    },
    "execution": {
     "iopub.execute_input": "2020-10-12T01:18:57.798946Z",
     "iopub.status.busy": "2020-10-12T01:18:57.797788Z",
     "iopub.status.idle": "2020-10-12T01:18:57.802480Z",
     "shell.execute_reply": "2020-10-12T01:18:57.803390Z"
    },
    "executionInfo": {
     "elapsed": 2,
     "status": "ok",
     "timestamp": 1702272297691,
     "user": {
      "displayName": "정지원",
      "userId": "16823124283758121408"
     },
     "user_tz": -540
    },
    "id": "CP3ivii46kQZ",
    "outputId": "537fd1f1-9213-49e9-b0fb-9901021aaac5"
   },
   "outputs": [
    {
     "name": "stdout",
     "output_type": "stream",
     "text": [
      "1.0\n"
     ]
    }
   ],
   "source": [
    "print(np.sum(train_oh[0][0]))\n",
    "# 나머지 원소 다 더해서 1이 되는지 화긴"
   ]
  },
  {
   "cell_type": "code",
   "execution_count": 24,
   "metadata": {
    "execution": {
     "iopub.execute_input": "2020-10-12T01:18:57.810383Z",
     "iopub.status.busy": "2020-10-12T01:18:57.809293Z",
     "iopub.status.idle": "2020-10-12T01:18:58.247989Z",
     "shell.execute_reply": "2020-10-12T01:18:58.248931Z"
    },
    "executionInfo": {
     "elapsed": 534,
     "status": "ok",
     "timestamp": 1702272303417,
     "user": {
      "displayName": "정지원",
      "userId": "16823124283758121408"
     },
     "user_tz": -540
    },
    "id": "vgijH6m26kQZ"
   },
   "outputs": [],
   "source": [
    "val_oh = keras.utils.to_categorical(val_seq)"
   ]
  },
  {
   "cell_type": "code",
   "execution_count": 25,
   "metadata": {
    "colab": {
     "base_uri": "https://localhost:8080/"
    },
    "execution": {
     "iopub.execute_input": "2020-10-12T01:18:58.256367Z",
     "iopub.status.busy": "2020-10-12T01:18:58.255252Z",
     "iopub.status.idle": "2020-10-12T01:18:58.261986Z",
     "shell.execute_reply": "2020-10-12T01:18:58.262846Z"
    },
    "executionInfo": {
     "elapsed": 2,
     "status": "ok",
     "timestamp": 1702272303417,
     "user": {
      "displayName": "정지원",
      "userId": "16823124283758121408"
     },
     "user_tz": -540
    },
    "id": "0V0Svpuf6kQZ",
    "outputId": "bb591782-255b-4642-8a66-68c174fc2452"
   },
   "outputs": [
    {
     "name": "stdout",
     "output_type": "stream",
     "text": [
      "Model: \"sequential\"\n",
      "_________________________________________________________________\n",
      " Layer (type)                Output Shape              Param #   \n",
      "=================================================================\n",
      " simple_rnn (SimpleRNN)      (None, 8)                 4072      \n",
      "                                                                 \n",
      " dense (Dense)               (None, 1)                 9         \n",
      "                                                                 \n",
      "=================================================================\n",
      "Total params: 4081 (15.94 KB)\n",
      "Trainable params: 4081 (15.94 KB)\n",
      "Non-trainable params: 0 (0.00 Byte)\n",
      "_________________________________________________________________\n"
     ]
    }
   ],
   "source": [
    "model.summary()"
   ]
  },
  {
   "cell_type": "markdown",
   "metadata": {
    "id": "S22Hc-7L6kQZ"
   },
   "source": [
    "## 순환 신경망 훈련하기"
   ]
  },
  {
   "cell_type": "code",
   "execution_count": null,
   "metadata": {
    "execution": {
     "iopub.execute_input": "2020-10-12T01:18:58.286672Z",
     "iopub.status.busy": "2020-10-12T01:18:58.285571Z",
     "iopub.status.idle": "2020-10-12T01:30:36.157752Z",
     "shell.execute_reply": "2020-10-12T01:30:36.159280Z"
    },
    "id": "YcwM299t6kQZ"
   },
   "outputs": [],
   "source": [
    "rmsprop = keras.optimizers.RMSprop(learning_rate=1e-4)\n",
    "# RMSProp 설정\n",
    "model.compile(optimizer=rmsprop, loss='binary_crossentropy',\n",
    "              metrics=['accuracy']) # 이진 분류, 정확도를 메트릭으로 설정함\n",
    "\n",
    "checkpoint_cb = keras.callbacks.ModelCheckpoint('best-simplernn-model.h5')\n",
    "early_stopping_cb = keras.callbacks.EarlyStopping(patience=3,\n",
    "                                                  restore_best_weights=True)\n",
    "\n",
    "history = model.fit(train_oh, train_target, epochs=100, batch_size=64,\n",
    "                    validation_data=(val_oh, val_target),\n",
    "                    callbacks=[checkpoint_cb, early_stopping_cb])"
   ]
  },
  {
   "cell_type": "code",
   "execution_count": null,
   "metadata": {
    "colab": {
     "base_uri": "https://localhost:8080/",
     "height": 449
    },
    "execution": {
     "iopub.execute_input": "2020-10-12T01:30:36.190161Z",
     "iopub.status.busy": "2020-10-12T01:30:36.175046Z",
     "iopub.status.idle": "2020-10-12T01:30:36.782577Z",
     "shell.execute_reply": "2020-10-12T01:30:36.784046Z"
    },
    "executionInfo": {
     "elapsed": 578,
     "status": "ok",
     "timestamp": 1700905230910,
     "user": {
      "displayName": "Lee Hae in",
      "userId": "06524982583365591197"
     },
     "user_tz": -540
    },
    "id": "YS_5tIG26kQa",
    "outputId": "3830c591-fe58-4c30-87ed-96c3751f136f"
   },
   "outputs": [
    {
     "data": {
      "image/png": "[encoded data removed]",
      "text/plain": [
       "<Figure size 640x480 with 1 Axes>"
      ]
     },
     "metadata": {},
     "output_type": "display_data"
    }
   ],
   "source": [
    "plt.plot(history.history['loss'])\n",
    "plt.plot(history.history['val_loss'])\n",
    "plt.xlabel('epoch')\n",
    "plt.ylabel('loss')\n",
    "plt.legend(['train', 'val'])\n",
    "plt.show()\n",
    "# 훈련 세트와 검증세트 손실 그래프 출력"
   ]
  },
  {
   "cell_type": "markdown",
   "metadata": {
    "id": "K_U_lVie6kQa"
   },
   "source": [
    "## 단어 임베딩을 사용하기"
   ]
  },
  {
   "cell_type": "code",
   "execution_count": 21,
   "metadata": {
    "colab": {
     "base_uri": "https://localhost:8080/"
    },
    "execution": {
     "iopub.execute_input": "2020-10-12T01:30:36.795147Z",
     "iopub.status.busy": "2020-10-12T01:30:36.793959Z",
     "iopub.status.idle": "2020-10-12T01:30:37.414822Z",
     "shell.execute_reply": "2020-10-12T01:30:37.417021Z"
    },
    "executionInfo": {
     "elapsed": 324,
     "status": "ok",
     "timestamp": 1702272419835,
     "user": {
      "displayName": "정지원",
      "userId": "16823124283758121408"
     },
     "user_tz": -540
    },
    "id": "Ofl-Ifev6kQa",
    "outputId": "d059be42-2d1e-4325-a2eb-20bba4491e5d"
   },
   "outputs": [
    {
     "name": "stdout",
     "output_type": "stream",
     "text": [
      "Model: \"sequential_1\"\n",
      "_________________________________________________________________\n",
      " Layer (type)                Output Shape              Param #   \n",
      "=================================================================\n",
      " embedding (Embedding)       (None, 100, 16)           8000      \n",
      "                                                                 \n",
      " simple_rnn_1 (SimpleRNN)    (None, 8)                 200       \n",
      "                                                                 \n",
      " dense_1 (Dense)             (None, 1)                 9         \n",
      "                                                                 \n",
      "=================================================================\n",
      "Total params: 8209 (32.07 KB)\n",
      "Trainable params: 8209 (32.07 KB)\n",
      "Non-trainable params: 0 (0.00 Byte)\n",
      "_________________________________________________________________\n"
     ]
    }
   ],
   "source": [
    "model2 = keras.Sequential()\n",
    "# 임베딩 클래스를 추가함\n",
    "model2.add(keras.layers.Embedding(500, 16, input_length=100))\n",
    "model2.add(keras.layers.SimpleRNN(8))\n",
    "model2.add(keras.layers.Dense(1, activation='sigmoid'))\n",
    "\n",
    "model2.summary()"
   ]
  },
  {
   "cell_type": "code",
   "execution_count": null,
   "metadata": {
    "colab": {
     "base_uri": "https://localhost:8080/"
    },
    "execution": {
     "iopub.execute_input": "2020-10-12T01:30:37.439013Z",
     "iopub.status.busy": "2020-10-12T01:30:37.437655Z",
     "iopub.status.idle": "2020-10-12T01:40:38.584921Z",
     "shell.execute_reply": "2020-10-12T01:40:38.586340Z"
    },
    "executionInfo": {
     "elapsed": 270842,
     "status": "ok",
     "timestamp": 1700905502189,
     "user": {
      "displayName": "Lee Hae in",
      "userId": "06524982583365591197"
     },
     "user_tz": -540
    },
    "id": "78TUrJAs6kQa",
    "outputId": "305788c4-ac0a-4d06-9547-566b4c70882f"
   },
   "outputs": [
    {
     "name": "stdout",
     "output_type": "stream",
     "text": [
      "Epoch 1/100\n",
      "313/313 [==============================] - 11s 29ms/step - loss: 0.6946 - accuracy: 0.5129 - val_loss: 0.6928 - val_accuracy: 0.5162\n",
      "Epoch 2/100\n",
      "313/313 [==============================] - 12s 39ms/step - loss: 0.6788 - accuracy: 0.5889 - val_loss: 0.6664 - val_accuracy: 0.6480\n",
      "Epoch 3/100\n",
      "313/313 [==============================] - 10s 32ms/step - loss: 0.6510 - accuracy: 0.6815 - val_loss: 0.6424 - val_accuracy: 0.6962\n",
      "Epoch 4/100\n",
      "313/313 [==============================] - 11s 35ms/step - loss: 0.6242 - accuracy: 0.7219 - val_loss: 0.6177 - val_accuracy: 0.7180\n",
      "Epoch 5/100\n",
      "313/313 [==============================] - 12s 37ms/step - loss: 0.5998 - accuracy: 0.7418 - val_loss: 0.5963 - val_accuracy: 0.7434\n",
      "Epoch 6/100\n",
      "313/313 [==============================] - 9s 29ms/step - loss: 0.5791 - accuracy: 0.7575 - val_loss: 0.5876 - val_accuracy: 0.7322\n",
      "Epoch 7/100\n",
      "313/313 [==============================] - 13s 42ms/step - loss: 0.5600 - accuracy: 0.7665 - val_loss: 0.5604 - val_accuracy: 0.7582\n",
      "Epoch 8/100\n",
      "313/313 [==============================] - 9s 27ms/step - loss: 0.5424 - accuracy: 0.7770 - val_loss: 0.5505 - val_accuracy: 0.7594\n",
      "Epoch 9/100\n",
      "313/313 [==============================] - 13s 40ms/step - loss: 0.5277 - accuracy: 0.7820 - val_loss: 0.5370 - val_accuracy: 0.7636\n",
      "Epoch 10/100\n",
      "313/313 [==============================] - 9s 29ms/step - loss: 0.5138 - accuracy: 0.7864 - val_loss: 0.5333 - val_accuracy: 0.7580\n",
      "Epoch 11/100\n",
      "313/313 [==============================] - 12s 37ms/step - loss: 0.5021 - accuracy: 0.7901 - val_loss: 0.5202 - val_accuracy: 0.7684\n",
      "Epoch 12/100\n",
      "313/313 [==============================] - 10s 33ms/step - loss: 0.4917 - accuracy: 0.7947 - val_loss: 0.5075 - val_accuracy: 0.7798\n",
      "Epoch 13/100\n",
      "313/313 [==============================] - 11s 34ms/step - loss: 0.4826 - accuracy: 0.7987 - val_loss: 0.5022 - val_accuracy: 0.7762\n",
      "Epoch 14/100\n",
      "313/313 [==============================] - 12s 37ms/step - loss: 0.4746 - accuracy: 0.7991 - val_loss: 0.4959 - val_accuracy: 0.7756\n",
      "Epoch 15/100\n",
      "313/313 [==============================] - 9s 29ms/step - loss: 0.4666 - accuracy: 0.8024 - val_loss: 0.4901 - val_accuracy: 0.7798\n",
      "Epoch 16/100\n",
      "313/313 [==============================] - 13s 40ms/step - loss: 0.4591 - accuracy: 0.8062 - val_loss: 0.4846 - val_accuracy: 0.7824\n",
      "Epoch 17/100\n",
      "313/313 [==============================] - 8s 26ms/step - loss: 0.4543 - accuracy: 0.8063 - val_loss: 0.4862 - val_accuracy: 0.7788\n",
      "Epoch 18/100\n",
      "313/313 [==============================] - 12s 40ms/step - loss: 0.4490 - accuracy: 0.8084 - val_loss: 0.4803 - val_accuracy: 0.7822\n",
      "Epoch 19/100\n",
      "313/313 [==============================] - 9s 29ms/step - loss: 0.4444 - accuracy: 0.8108 - val_loss: 0.4746 - val_accuracy: 0.7878\n",
      "Epoch 20/100\n",
      "313/313 [==============================] - 12s 38ms/step - loss: 0.4397 - accuracy: 0.8108 - val_loss: 0.4742 - val_accuracy: 0.7844\n",
      "Epoch 21/100\n",
      "313/313 [==============================] - 10s 33ms/step - loss: 0.4360 - accuracy: 0.8127 - val_loss: 0.4733 - val_accuracy: 0.7848\n",
      "Epoch 22/100\n",
      "313/313 [==============================] - 11s 35ms/step - loss: 0.4313 - accuracy: 0.8144 - val_loss: 0.4706 - val_accuracy: 0.7900\n",
      "Epoch 23/100\n",
      "313/313 [==============================] - 13s 41ms/step - loss: 0.4279 - accuracy: 0.8170 - val_loss: 0.4728 - val_accuracy: 0.7854\n",
      "Epoch 24/100\n",
      "313/313 [==============================] - 8s 27ms/step - loss: 0.4253 - accuracy: 0.8185 - val_loss: 0.4708 - val_accuracy: 0.7842\n",
      "Epoch 25/100\n",
      "313/313 [==============================] - 13s 40ms/step - loss: 0.4215 - accuracy: 0.8196 - val_loss: 0.4743 - val_accuracy: 0.7814\n"
     ]
    }
   ],
   "source": [
    "rmsprop = keras.optimizers.RMSprop(learning_rate=1e-4)\n",
    "model2.compile(optimizer=rmsprop, loss='binary_crossentropy',\n",
    "               metrics=['accuracy'])\n",
    "\n",
    "\n",
    "checkpoint_cb = keras.callbacks.ModelCheckpoint('best-embedding-model.h5')\n",
    "early_stopping_cb = keras.callbacks.EarlyStopping(patience=3,\n",
    "                                                  restore_best_weights=True)\n",
    "\n",
    "history = model2.fit(train_seq, train_target, epochs=100, batch_size=64,\n",
    "                     validation_data=(val_seq, val_target),\n",
    "                     callbacks=[checkpoint_cb, early_stopping_cb])"
   ]
  },
  {
   "cell_type": "code",
   "execution_count": null,
   "metadata": {
    "colab": {
     "base_uri": "https://localhost:8080/",
     "height": 449
    },
    "execution": {
     "iopub.execute_input": "2020-10-12T01:40:38.604725Z",
     "iopub.status.busy": "2020-10-12T01:40:38.602954Z",
     "iopub.status.idle": "2020-10-12T01:40:39.220316Z",
     "shell.execute_reply": "2020-10-12T01:40:39.221611Z"
    },
    "executionInfo": {
     "elapsed": 502,
     "status": "ok",
     "timestamp": 1700905502679,
     "user": {
      "displayName": "Lee Hae in",
      "userId": "06524982583365591197"
     },
     "user_tz": -540
    },
    "id": "brUvKwLt6kQb",
    "outputId": "eb642398-8502-4c0f-b9da-fb52e706fedc"
   },
   "outputs": [
    {
     "data": {
      "image/png": "[encoded data removed]",
      "text/plain": [
       "<Figure size 640x480 with 1 Axes>"
      ]
     },
     "metadata": {},
     "output_type": "display_data"
    }
   ],
   "source": [
    "plt.plot(history.history['loss'])\n",
    "plt.plot(history.history['val_loss'])\n",
    "plt.xlabel('epoch')\n",
    "plt.ylabel('loss')\n",
    "plt.legend(['train', 'val'])\n",
    "plt.show()"
   ]
  }
 ],
 "metadata": {
  "accelerator": "GPU",
  "colab": {
   "gpuType": "T4",
   "provenance": []
  },
  "kernelspec": {
   "display_name": "Python 3 (ipykernel)",
   "language": "python",
   "name": "python3"
  },
  "language_info": {
   "codemirror_mode": {
    "name": "ipython",
    "version": 3
   },
   "file_extension": ".py",
   "mimetype": "text/x-python",
   "name": "python",
   "nbconvert_exporter": "python",
   "pygments_lexer": "ipython3",
   "version": "3.9.12"
  }
 },
 "nbformat": 4,
 "nbformat_minor": 1
}
