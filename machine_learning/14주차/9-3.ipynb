{
 "cells": [
  {
   "cell_type": "markdown",
   "metadata": {
    "id": "AlaMdWF26k2H"
   },
   "source": [
    "# LSTM과 GRU 셀"
   ]
  },
  {
   "cell_type": "markdown",
   "metadata": {
    "id": "o_Csb7v96k2M"
   },
   "source": [
    "<table align=\"left\">\n",
    "  <td>\n",
    "    <a target=\"_blank\" href=\"https://colab.research.google.com/github/rickiepark/hg-mldl/blob/master/9-3.ipynb\"><img src=\"https://www.tensorflow.org/images/colab_logo_32px.png\" />구글 코랩에서 실행하기</a>\n",
    "  </td>\n",
    "</table>"
   ]
  },
  {
   "cell_type": "markdown",
   "metadata": {
    "id": "KWi9yl0q6k2N"
   },
   "source": [
    "## LSTM 신경망 훈련하기"
   ]
  },
  {
   "cell_type": "code",
   "execution_count": 1,
   "metadata": {
    "colab": {
     "base_uri": "https://localhost:8080/"
    },
    "execution": {
     "iopub.execute_input": "2020-10-12T09:05:30.590337Z",
     "iopub.status.busy": "2020-10-12T09:05:30.589154Z",
     "iopub.status.idle": "2020-10-12T09:05:40.880700Z",
     "shell.execute_reply": "2020-10-12T09:05:40.879133Z"
    },
    "executionInfo": {
     "elapsed": 11669,
     "status": "ok",
     "timestamp": 1702272542428,
     "user": {
      "displayName": "정지원",
      "userId": "16823124283758121408"
     },
     "user_tz": -540
    },
    "id": "XL7x0NCx6k2N",
    "outputId": "284a10e6-dfbd-43b1-fe13-53fecfff5ef6"
   },
   "outputs": [
    {
     "name": "stdout",
     "output_type": "stream",
     "text": [
      "Downloading data from https://storage.googleapis.com/tensorflow/tf-keras-datasets/imdb.npz\n",
      "17464789/17464789 [==============================] - 0s 0us/step\n"
     ]
    }
   ],
   "source": [
    "from tensorflow.keras.datasets import imdb\n",
    "from sklearn.model_selection import train_test_split\n",
    "\n",
    "(train_input, train_target), (test_input, test_target) = imdb.load_data(\n",
    "    num_words=500)\n",
    "# num_words=500으로 데이터셋에서 가장 자주 등장하는 단어 500개만 사용\n",
    "\n",
    "train_input, val_input, train_target, val_target = train_test_split(\n",
    "    train_input, train_target, test_size=0.2, random_state=42)\n",
    "# 훈련 세트와 검증 세트를 8대2로 나눔"
   ]
  },
  {
   "cell_type": "code",
   "execution_count": 2,
   "metadata": {
    "execution": {
     "iopub.execute_input": "2020-10-12T09:05:40.904623Z",
     "iopub.status.busy": "2020-10-12T09:05:40.902896Z",
     "iopub.status.idle": "2020-10-12T09:05:41.543511Z",
     "shell.execute_reply": "2020-10-12T09:05:41.542251Z"
    },
    "executionInfo": {
     "elapsed": 840,
     "status": "ok",
     "timestamp": 1702272565939,
     "user": {
      "displayName": "정지원",
      "userId": "16823124283758121408"
     },
     "user_tz": -540
    },
    "id": "5bjJ14QJ6k2O"
   },
   "outputs": [],
   "source": [
    "from tensorflow.keras.preprocessing.sequence import pad_sequences\n",
    "\n",
    "train_seq = pad_sequences(train_input, maxlen=100)# maxlen=100으로 설정하여 train_input의 길이를 100으로 맞춤\n",
    "val_seq = pad_sequences(val_input, maxlen=100) # maxlen=100으로 설정하여 val_input의 길이를 100으로 맞춤"
   ]
  },
  {
   "cell_type": "code",
   "execution_count": 4,
   "metadata": {
    "colab": {
     "base_uri": "https://localhost:8080/"
    },
    "execution": {
     "iopub.execute_input": "2020-10-12T09:05:41.551517Z",
     "iopub.status.busy": "2020-10-12T09:05:41.550145Z",
     "iopub.status.idle": "2020-10-12T09:05:43.982644Z",
     "shell.execute_reply": "2020-10-12T09:05:43.983878Z"
    },
    "executionInfo": {
     "elapsed": 576,
     "status": "ok",
     "timestamp": 1702272593061,
     "user": {
      "displayName": "정지원",
      "userId": "16823124283758121408"
     },
     "user_tz": -540
    },
    "id": "uMlTD4zv6k2O",
    "outputId": "92a0795e-a873-4bf0-cced-7573e41c7115"
   },
   "outputs": [
    {
     "name": "stdout",
     "output_type": "stream",
     "text": [
      "Model: \"sequential_1\"\n",
      "_________________________________________________________________\n",
      " Layer (type)                Output Shape              Param #   \n",
      "=================================================================\n",
      " embedding_1 (Embedding)     (None, 100, 16)           8000      \n",
      "                                                                 \n",
      " lstm_1 (LSTM)               (None, 8)                 800       \n",
      "                                                                 \n",
      " dense_1 (Dense)             (None, 1)                 9         \n",
      "                                                                 \n",
      "=================================================================\n",
      "Total params: 8809 (34.41 KB)\n",
      "Trainable params: 8809 (34.41 KB)\n",
      "Non-trainable params: 0 (0.00 Byte)\n",
      "_________________________________________________________________\n"
     ]
    }
   ],
   "source": [
    "from tensorflow import keras\n",
    "\n",
    "model = keras.Sequential()\n",
    "\n",
    "model.add(keras.layers.Embedding(500, 16, input_length=100)) # 임베딩 레이어 사용\n",
    "model.add(keras.layers.LSTM(8)) # LSTM 사용\n",
    "model.add(keras.layers.Dense(1, activation='sigmoid'))\n",
    "\n",
    "model.summary()"
   ]
  },
  {
   "cell_type": "code",
   "execution_count": 5,
   "metadata": {
    "colab": {
     "base_uri": "https://localhost:8080/"
    },
    "execution": {
     "iopub.execute_input": "2020-10-12T09:05:44.007411Z",
     "iopub.status.busy": "2020-10-12T09:05:44.005663Z",
     "iopub.status.idle": "2020-10-12T09:09:36.703760Z",
     "shell.execute_reply": "2020-10-12T09:09:36.702162Z"
    },
    "executionInfo": {
     "elapsed": 128025,
     "status": "ok",
     "timestamp": 1702272756150,
     "user": {
      "displayName": "정지원",
      "userId": "16823124283758121408"
     },
     "user_tz": -540
    },
    "id": "nCmqOkjI6k2P",
    "outputId": "5a381314-c98c-4d52-b21f-d4a1487e98c3"
   },
   "outputs": [
    {
     "name": "stdout",
     "output_type": "stream",
     "text": [
      "Epoch 1/100\n",
      "313/313 [==============================] - 15s 24ms/step - loss: 0.6915 - accuracy: 0.5576 - val_loss: 0.6899 - val_accuracy: 0.5982\n",
      "Epoch 2/100\n",
      " 16/313 [>.............................] - ETA: 2s - loss: 0.6898 - accuracy: 0.5879"
     ]
    },
    {
     "name": "stderr",
     "output_type": "stream",
     "text": [
      "/usr/local/lib/python3.10/dist-packages/keras/src/engine/training.py:3079: UserWarning: You are saving your model as an HDF5 file via `model.save()`. This file format is considered legacy. We recommend using instead the native Keras format, e.g. `model.save('my_model.keras')`.\n",
      "  saving_api.save_model(\n"
     ]
    },
    {
     "name": "stdout",
     "output_type": "stream",
     "text": [
      "313/313 [==============================] - 3s 9ms/step - loss: 0.6869 - accuracy: 0.6205 - val_loss: 0.6836 - val_accuracy: 0.6468\n",
      "Epoch 3/100\n",
      "313/313 [==============================] - 3s 8ms/step - loss: 0.6725 - accuracy: 0.6775 - val_loss: 0.6546 - val_accuracy: 0.6990\n",
      "Epoch 4/100\n",
      "313/313 [==============================] - 3s 9ms/step - loss: 0.6172 - accuracy: 0.7110 - val_loss: 0.5911 - val_accuracy: 0.7084\n",
      "Epoch 5/100\n",
      "313/313 [==============================] - 4s 12ms/step - loss: 0.5717 - accuracy: 0.7254 - val_loss: 0.5635 - val_accuracy: 0.7280\n",
      "Epoch 6/100\n",
      "313/313 [==============================] - 5s 16ms/step - loss: 0.5431 - accuracy: 0.7484 - val_loss: 0.5361 - val_accuracy: 0.7516\n",
      "Epoch 7/100\n",
      "313/313 [==============================] - 5s 16ms/step - loss: 0.5193 - accuracy: 0.7685 - val_loss: 0.5161 - val_accuracy: 0.7642\n",
      "Epoch 8/100\n",
      "313/313 [==============================] - 6s 19ms/step - loss: 0.5001 - accuracy: 0.7788 - val_loss: 0.4985 - val_accuracy: 0.7788\n",
      "Epoch 9/100\n",
      "313/313 [==============================] - 4s 13ms/step - loss: 0.4839 - accuracy: 0.7862 - val_loss: 0.4866 - val_accuracy: 0.7824\n",
      "Epoch 10/100\n",
      "313/313 [==============================] - 5s 15ms/step - loss: 0.4712 - accuracy: 0.7923 - val_loss: 0.4764 - val_accuracy: 0.7848\n",
      "Epoch 11/100\n",
      "313/313 [==============================] - 4s 12ms/step - loss: 0.4614 - accuracy: 0.7973 - val_loss: 0.4719 - val_accuracy: 0.7884\n",
      "Epoch 12/100\n",
      "313/313 [==============================] - 4s 13ms/step - loss: 0.4539 - accuracy: 0.8000 - val_loss: 0.4647 - val_accuracy: 0.7890\n",
      "Epoch 13/100\n",
      "313/313 [==============================] - 3s 10ms/step - loss: 0.4471 - accuracy: 0.8020 - val_loss: 0.4599 - val_accuracy: 0.7904\n",
      "Epoch 14/100\n",
      "313/313 [==============================] - 5s 15ms/step - loss: 0.4421 - accuracy: 0.8054 - val_loss: 0.4562 - val_accuracy: 0.7944\n",
      "Epoch 15/100\n",
      "313/313 [==============================] - 5s 18ms/step - loss: 0.4375 - accuracy: 0.8066 - val_loss: 0.4559 - val_accuracy: 0.7926\n",
      "Epoch 16/100\n",
      "313/313 [==============================] - 3s 8ms/step - loss: 0.4332 - accuracy: 0.8098 - val_loss: 0.4507 - val_accuracy: 0.7928\n",
      "Epoch 17/100\n",
      "313/313 [==============================] - 3s 11ms/step - loss: 0.4297 - accuracy: 0.8113 - val_loss: 0.4483 - val_accuracy: 0.7952\n",
      "Epoch 18/100\n",
      "313/313 [==============================] - 3s 11ms/step - loss: 0.4266 - accuracy: 0.8126 - val_loss: 0.4487 - val_accuracy: 0.7946\n",
      "Epoch 19/100\n",
      "313/313 [==============================] - 3s 11ms/step - loss: 0.4238 - accuracy: 0.8122 - val_loss: 0.4444 - val_accuracy: 0.7958\n",
      "Epoch 20/100\n",
      "313/313 [==============================] - 3s 10ms/step - loss: 0.4211 - accuracy: 0.8129 - val_loss: 0.4451 - val_accuracy: 0.7986\n",
      "Epoch 21/100\n",
      "313/313 [==============================] - 3s 11ms/step - loss: 0.4190 - accuracy: 0.8164 - val_loss: 0.4435 - val_accuracy: 0.7962\n",
      "Epoch 22/100\n",
      "313/313 [==============================] - 4s 12ms/step - loss: 0.4164 - accuracy: 0.8153 - val_loss: 0.4397 - val_accuracy: 0.7950\n",
      "Epoch 23/100\n",
      "313/313 [==============================] - 3s 10ms/step - loss: 0.4147 - accuracy: 0.8166 - val_loss: 0.4398 - val_accuracy: 0.7930\n",
      "Epoch 24/100\n",
      "313/313 [==============================] - 3s 8ms/step - loss: 0.4132 - accuracy: 0.8163 - val_loss: 0.4372 - val_accuracy: 0.7968\n",
      "Epoch 25/100\n",
      "313/313 [==============================] - 3s 8ms/step - loss: 0.4115 - accuracy: 0.8188 - val_loss: 0.4351 - val_accuracy: 0.8010\n",
      "Epoch 26/100\n",
      "313/313 [==============================] - 3s 9ms/step - loss: 0.4101 - accuracy: 0.8188 - val_loss: 0.4370 - val_accuracy: 0.8012\n",
      "Epoch 27/100\n",
      "313/313 [==============================] - 3s 10ms/step - loss: 0.4088 - accuracy: 0.8178 - val_loss: 0.4366 - val_accuracy: 0.8028\n",
      "Epoch 28/100\n",
      "313/313 [==============================] - 3s 9ms/step - loss: 0.4074 - accuracy: 0.8199 - val_loss: 0.4342 - val_accuracy: 0.8042\n",
      "Epoch 29/100\n",
      "313/313 [==============================] - 3s 8ms/step - loss: 0.4062 - accuracy: 0.8199 - val_loss: 0.4363 - val_accuracy: 0.8018\n",
      "Epoch 30/100\n",
      "313/313 [==============================] - 2s 8ms/step - loss: 0.4049 - accuracy: 0.8188 - val_loss: 0.4319 - val_accuracy: 0.8040\n",
      "Epoch 31/100\n",
      "313/313 [==============================] - 3s 8ms/step - loss: 0.4040 - accuracy: 0.8194 - val_loss: 0.4340 - val_accuracy: 0.8038\n",
      "Epoch 32/100\n",
      "313/313 [==============================] - 4s 11ms/step - loss: 0.4035 - accuracy: 0.8212 - val_loss: 0.4320 - val_accuracy: 0.7984\n",
      "Epoch 33/100\n",
      "313/313 [==============================] - 3s 8ms/step - loss: 0.4021 - accuracy: 0.8208 - val_loss: 0.4360 - val_accuracy: 0.8054\n"
     ]
    }
   ],
   "source": [
    "rmsprop = keras.optimizers.RMSprop(learning_rate=1e-4)\n",
    "# RMSProp의 학습률을 0.0001로 지정\n",
    "model.compile(optimizer=rmsprop, loss='binary_crossentropy',\n",
    "              metrics=['accuracy'])\n",
    "\n",
    "checkpoint_cb = keras.callbacks.ModelCheckpoint('best-lstm-model.h5')\n",
    "early_stopping_cb = keras.callbacks.EarlyStopping(patience=3,\n",
    "                                                  restore_best_weights=True)\n",
    "\n",
    "history = model.fit(train_seq, train_target, epochs=100, batch_size=64,\n",
    "                    validation_data=(val_seq, val_target),\n",
    "                    callbacks=[checkpoint_cb, early_stopping_cb])"
   ]
  },
  {
   "cell_type": "code",
   "execution_count": 7,
   "metadata": {
    "colab": {
     "base_uri": "https://localhost:8080/",
     "height": 449
    },
    "execution": {
     "iopub.execute_input": "2020-10-12T09:09:36.725150Z",
     "iopub.status.busy": "2020-10-12T09:09:36.723949Z",
     "iopub.status.idle": "2020-10-12T09:09:37.618677Z",
     "shell.execute_reply": "2020-10-12T09:09:37.620018Z"
    },
    "executionInfo": {
     "elapsed": 539,
     "status": "ok",
     "timestamp": 1702272780213,
     "user": {
      "displayName": "정지원",
      "userId": "16823124283758121408"
     },
     "user_tz": -540
    },
    "id": "Xl1bliNr6k2Q",
    "outputId": "cb891575-8144-4b79-dd17-0604509cb3a2"
   },
   "outputs": [
    {
     "data": {
      "image/png": "[encoded data removed]",
      "text/plain": [
       "<Figure size 640x480 with 1 Axes>"
      ]
     },
     "metadata": {},
     "output_type": "display_data"
    }
   ],
   "source": [
    "import matplotlib.pyplot as plt\n",
    "\n",
    "plt.plot(history.history['loss'])\n",
    "plt.plot(history.history['val_loss'])\n",
    "plt.xlabel('epoch')\n",
    "plt.ylabel('loss')\n",
    "plt.legend(['train', 'val'])\n",
    "plt.show()"
   ]
  },
  {
   "cell_type": "markdown",
   "metadata": {
    "id": "ob79h7Kc6k2Q"
   },
   "source": [
    "## 순환 층에 드롭아웃 적용하기"
   ]
  },
  {
   "cell_type": "code",
   "execution_count": 8,
   "metadata": {
    "execution": {
     "iopub.execute_input": "2020-10-12T09:09:37.633391Z",
     "iopub.status.busy": "2020-10-12T09:09:37.631822Z",
     "iopub.status.idle": "2020-10-12T09:09:37.849640Z",
     "shell.execute_reply": "2020-10-12T09:09:37.850929Z"
    },
    "executionInfo": {
     "elapsed": 539,
     "status": "ok",
     "timestamp": 1702272780749,
     "user": {
      "displayName": "정지원",
      "userId": "16823124283758121408"
     },
     "user_tz": -540
    },
    "id": "Fr0DUR-Y6k2R"
   },
   "outputs": [],
   "source": [
    "model2 = keras.Sequential()\n",
    "\n",
    "model2.add(keras.layers.Embedding(500, 16, input_length=100))\n",
    "model2.add(keras.layers.LSTM(8, dropout=0.3)) # 드롭아웃 적용\n",
    "model2.add(keras.layers.Dense(1, activation='sigmoid'))"
   ]
  },
  {
   "cell_type": "code",
   "execution_count": 9,
   "metadata": {
    "colab": {
     "base_uri": "https://localhost:8080/"
    },
    "execution": {
     "iopub.execute_input": "2020-10-12T09:09:37.868353Z",
     "iopub.status.busy": "2020-10-12T09:09:37.866777Z",
     "iopub.status.idle": "2020-10-12T09:13:59.438760Z",
     "shell.execute_reply": "2020-10-12T09:13:59.440154Z"
    },
    "executionInfo": {
     "elapsed": 168264,
     "status": "ok",
     "timestamp": 1702272949012,
     "user": {
      "displayName": "정지원",
      "userId": "16823124283758121408"
     },
     "user_tz": -540
    },
    "id": "Ap8XxUO46k2R",
    "outputId": "cbee7bf0-f7a8-4b85-fad4-47ff7026fd6d"
   },
   "outputs": [
    {
     "name": "stdout",
     "output_type": "stream",
     "text": [
      "Epoch 1/100\n",
      "313/313 [==============================] - 9s 18ms/step - loss: 0.6921 - accuracy: 0.5410 - val_loss: 0.6910 - val_accuracy: 0.5862\n",
      "Epoch 2/100\n",
      " 19/313 [>.............................] - ETA: 2s - loss: 0.6904 - accuracy: 0.5995"
     ]
    },
    {
     "name": "stderr",
     "output_type": "stream",
     "text": [
      "/usr/local/lib/python3.10/dist-packages/keras/src/engine/training.py:3079: UserWarning: You are saving your model as an HDF5 file via `model.save()`. This file format is considered legacy. We recommend using instead the native Keras format, e.g. `model.save('my_model.keras')`.\n",
      "  saving_api.save_model(\n"
     ]
    },
    {
     "name": "stdout",
     "output_type": "stream",
     "text": [
      "313/313 [==============================] - 4s 13ms/step - loss: 0.6874 - accuracy: 0.6168 - val_loss: 0.6822 - val_accuracy: 0.6468\n",
      "Epoch 3/100\n",
      "313/313 [==============================] - 3s 9ms/step - loss: 0.6562 - accuracy: 0.6665 - val_loss: 0.6248 - val_accuracy: 0.7018\n",
      "Epoch 4/100\n",
      "313/313 [==============================] - 3s 9ms/step - loss: 0.6115 - accuracy: 0.7023 - val_loss: 0.6016 - val_accuracy: 0.7082\n",
      "Epoch 5/100\n",
      "313/313 [==============================] - 3s 9ms/step - loss: 0.5921 - accuracy: 0.7214 - val_loss: 0.5852 - val_accuracy: 0.7222\n",
      "Epoch 6/100\n",
      "313/313 [==============================] - 3s 11ms/step - loss: 0.5772 - accuracy: 0.7323 - val_loss: 0.5680 - val_accuracy: 0.7474\n",
      "Epoch 7/100\n",
      "313/313 [==============================] - 3s 10ms/step - loss: 0.5625 - accuracy: 0.7442 - val_loss: 0.5538 - val_accuracy: 0.7528\n",
      "Epoch 8/100\n",
      "313/313 [==============================] - 3s 9ms/step - loss: 0.5492 - accuracy: 0.7513 - val_loss: 0.5420 - val_accuracy: 0.7556\n",
      "Epoch 9/100\n",
      "313/313 [==============================] - 3s 9ms/step - loss: 0.5351 - accuracy: 0.7599 - val_loss: 0.5291 - val_accuracy: 0.7642\n",
      "Epoch 10/100\n",
      "313/313 [==============================] - 3s 8ms/step - loss: 0.5249 - accuracy: 0.7642 - val_loss: 0.5194 - val_accuracy: 0.7666\n",
      "Epoch 11/100\n",
      "313/313 [==============================] - 4s 12ms/step - loss: 0.5117 - accuracy: 0.7716 - val_loss: 0.5057 - val_accuracy: 0.7742\n",
      "Epoch 12/100\n",
      "313/313 [==============================] - 3s 9ms/step - loss: 0.5005 - accuracy: 0.7735 - val_loss: 0.4963 - val_accuracy: 0.7772\n",
      "Epoch 13/100\n",
      "313/313 [==============================] - 3s 9ms/step - loss: 0.4876 - accuracy: 0.7818 - val_loss: 0.4838 - val_accuracy: 0.7822\n",
      "Epoch 14/100\n",
      "313/313 [==============================] - 3s 8ms/step - loss: 0.4762 - accuracy: 0.7873 - val_loss: 0.4747 - val_accuracy: 0.7880\n",
      "Epoch 15/100\n",
      "313/313 [==============================] - 3s 10ms/step - loss: 0.4682 - accuracy: 0.7914 - val_loss: 0.4665 - val_accuracy: 0.7864\n",
      "Epoch 16/100\n",
      "313/313 [==============================] - 4s 12ms/step - loss: 0.4584 - accuracy: 0.7975 - val_loss: 0.4601 - val_accuracy: 0.7896\n",
      "Epoch 17/100\n",
      "313/313 [==============================] - 3s 8ms/step - loss: 0.4531 - accuracy: 0.7974 - val_loss: 0.4560 - val_accuracy: 0.7944\n",
      "Epoch 18/100\n",
      "313/313 [==============================] - 3s 9ms/step - loss: 0.4475 - accuracy: 0.8012 - val_loss: 0.4518 - val_accuracy: 0.7944\n",
      "Epoch 19/100\n",
      "313/313 [==============================] - 3s 8ms/step - loss: 0.4427 - accuracy: 0.8009 - val_loss: 0.4466 - val_accuracy: 0.7988\n",
      "Epoch 20/100\n",
      "313/313 [==============================] - 3s 10ms/step - loss: 0.4410 - accuracy: 0.8018 - val_loss: 0.4440 - val_accuracy: 0.8000\n",
      "Epoch 21/100\n",
      "313/313 [==============================] - 3s 10ms/step - loss: 0.4364 - accuracy: 0.8022 - val_loss: 0.4450 - val_accuracy: 0.7956\n",
      "Epoch 22/100\n",
      "313/313 [==============================] - 3s 8ms/step - loss: 0.4342 - accuracy: 0.8026 - val_loss: 0.4409 - val_accuracy: 0.7998\n",
      "Epoch 23/100\n",
      "313/313 [==============================] - 3s 8ms/step - loss: 0.4318 - accuracy: 0.8056 - val_loss: 0.4391 - val_accuracy: 0.8002\n",
      "Epoch 24/100\n",
      "313/313 [==============================] - 3s 8ms/step - loss: 0.4291 - accuracy: 0.8066 - val_loss: 0.4374 - val_accuracy: 0.8042\n",
      "Epoch 25/100\n",
      "313/313 [==============================] - 3s 11ms/step - loss: 0.4282 - accuracy: 0.8038 - val_loss: 0.4373 - val_accuracy: 0.8046\n",
      "Epoch 26/100\n",
      "313/313 [==============================] - 3s 9ms/step - loss: 0.4272 - accuracy: 0.8051 - val_loss: 0.4355 - val_accuracy: 0.8002\n",
      "Epoch 27/100\n",
      "313/313 [==============================] - 3s 8ms/step - loss: 0.4245 - accuracy: 0.8091 - val_loss: 0.4351 - val_accuracy: 0.7984\n",
      "Epoch 28/100\n",
      "313/313 [==============================] - 3s 9ms/step - loss: 0.4240 - accuracy: 0.8071 - val_loss: 0.4361 - val_accuracy: 0.7964\n",
      "Epoch 29/100\n",
      "313/313 [==============================] - 2s 8ms/step - loss: 0.4225 - accuracy: 0.8097 - val_loss: 0.4351 - val_accuracy: 0.7952\n",
      "Epoch 30/100\n",
      "313/313 [==============================] - 4s 12ms/step - loss: 0.4213 - accuracy: 0.8095 - val_loss: 0.4323 - val_accuracy: 0.8048\n",
      "Epoch 31/100\n",
      "313/313 [==============================] - 3s 9ms/step - loss: 0.4200 - accuracy: 0.8111 - val_loss: 0.4322 - val_accuracy: 0.8028\n",
      "Epoch 32/100\n",
      "313/313 [==============================] - 3s 8ms/step - loss: 0.4212 - accuracy: 0.8109 - val_loss: 0.4329 - val_accuracy: 0.7958\n",
      "Epoch 33/100\n",
      "313/313 [==============================] - 3s 8ms/step - loss: 0.4191 - accuracy: 0.8079 - val_loss: 0.4316 - val_accuracy: 0.8054\n",
      "Epoch 34/100\n",
      "313/313 [==============================] - 3s 8ms/step - loss: 0.4193 - accuracy: 0.8094 - val_loss: 0.4312 - val_accuracy: 0.8042\n",
      "Epoch 35/100\n",
      "313/313 [==============================] - 4s 11ms/step - loss: 0.4199 - accuracy: 0.8077 - val_loss: 0.4314 - val_accuracy: 0.7978\n",
      "Epoch 36/100\n",
      "313/313 [==============================] - 3s 9ms/step - loss: 0.4171 - accuracy: 0.8109 - val_loss: 0.4306 - val_accuracy: 0.8040\n",
      "Epoch 37/100\n",
      "313/313 [==============================] - 3s 9ms/step - loss: 0.4172 - accuracy: 0.8108 - val_loss: 0.4311 - val_accuracy: 0.7966\n",
      "Epoch 38/100\n",
      "313/313 [==============================] - 3s 8ms/step - loss: 0.4160 - accuracy: 0.8106 - val_loss: 0.4305 - val_accuracy: 0.7992\n",
      "Epoch 39/100\n",
      "313/313 [==============================] - 3s 8ms/step - loss: 0.4171 - accuracy: 0.8097 - val_loss: 0.4336 - val_accuracy: 0.7940\n",
      "Epoch 40/100\n",
      "313/313 [==============================] - 4s 12ms/step - loss: 0.4150 - accuracy: 0.8108 - val_loss: 0.4294 - val_accuracy: 0.8018\n",
      "Epoch 41/100\n",
      "313/313 [==============================] - 3s 9ms/step - loss: 0.4147 - accuracy: 0.8101 - val_loss: 0.4289 - val_accuracy: 0.8038\n",
      "Epoch 42/100\n",
      "313/313 [==============================] - 3s 8ms/step - loss: 0.4131 - accuracy: 0.8116 - val_loss: 0.4308 - val_accuracy: 0.8036\n",
      "Epoch 43/100\n",
      "313/313 [==============================] - 3s 8ms/step - loss: 0.4148 - accuracy: 0.8098 - val_loss: 0.4285 - val_accuracy: 0.8004\n",
      "Epoch 44/100\n",
      "313/313 [==============================] - 3s 10ms/step - loss: 0.4132 - accuracy: 0.8137 - val_loss: 0.4328 - val_accuracy: 0.7960\n",
      "Epoch 45/100\n",
      "313/313 [==============================] - 3s 11ms/step - loss: 0.4126 - accuracy: 0.8113 - val_loss: 0.4282 - val_accuracy: 0.8024\n",
      "Epoch 46/100\n",
      "313/313 [==============================] - 3s 8ms/step - loss: 0.4129 - accuracy: 0.8107 - val_loss: 0.4277 - val_accuracy: 0.8024\n",
      "Epoch 47/100\n",
      "313/313 [==============================] - 3s 8ms/step - loss: 0.4129 - accuracy: 0.8106 - val_loss: 0.4279 - val_accuracy: 0.8018\n",
      "Epoch 48/100\n",
      "313/313 [==============================] - 3s 9ms/step - loss: 0.4112 - accuracy: 0.8108 - val_loss: 0.4276 - val_accuracy: 0.8000\n",
      "Epoch 49/100\n",
      "313/313 [==============================] - 3s 10ms/step - loss: 0.4110 - accuracy: 0.8124 - val_loss: 0.4285 - val_accuracy: 0.8062\n",
      "Epoch 50/100\n",
      "313/313 [==============================] - 3s 10ms/step - loss: 0.4121 - accuracy: 0.8108 - val_loss: 0.4276 - val_accuracy: 0.8030\n",
      "Epoch 51/100\n",
      "313/313 [==============================] - 3s 8ms/step - loss: 0.4103 - accuracy: 0.8121 - val_loss: 0.4272 - val_accuracy: 0.8048\n",
      "Epoch 52/100\n",
      "313/313 [==============================] - 3s 8ms/step - loss: 0.4091 - accuracy: 0.8133 - val_loss: 0.4286 - val_accuracy: 0.8044\n",
      "Epoch 53/100\n",
      "313/313 [==============================] - 3s 8ms/step - loss: 0.4105 - accuracy: 0.8139 - val_loss: 0.4267 - val_accuracy: 0.8042\n",
      "Epoch 54/100\n",
      "313/313 [==============================] - 3s 11ms/step - loss: 0.4107 - accuracy: 0.8127 - val_loss: 0.4293 - val_accuracy: 0.7984\n",
      "Epoch 55/100\n",
      "313/313 [==============================] - 3s 10ms/step - loss: 0.4091 - accuracy: 0.8138 - val_loss: 0.4284 - val_accuracy: 0.8044\n",
      "Epoch 56/100\n",
      "313/313 [==============================] - 3s 8ms/step - loss: 0.4084 - accuracy: 0.8135 - val_loss: 0.4271 - val_accuracy: 0.8050\n"
     ]
    }
   ],
   "source": [
    "rmsprop = keras.optimizers.RMSprop(learning_rate=1e-4)\n",
    "model2.compile(optimizer=rmsprop, loss='binary_crossentropy',\n",
    "               metrics=['accuracy'])\n",
    "\n",
    "checkpoint_cb = keras.callbacks.ModelCheckpoint('best-dropout-model.h5')\n",
    "early_stopping_cb = keras.callbacks.EarlyStopping(patience=3,\n",
    "                                                  restore_best_weights=True)\n",
    "\n",
    "history = model2.fit(train_seq, train_target, epochs=100, batch_size=64,\n",
    "                     validation_data=(val_seq, val_target),\n",
    "                     callbacks=[checkpoint_cb, early_stopping_cb])"
   ]
  },
  {
   "cell_type": "code",
   "execution_count": 10,
   "metadata": {
    "colab": {
     "base_uri": "https://localhost:8080/",
     "height": 449
    },
    "execution": {
     "iopub.execute_input": "2020-10-12T09:13:59.466740Z",
     "iopub.status.busy": "2020-10-12T09:13:59.465154Z",
     "iopub.status.idle": "2020-10-12T09:14:00.055101Z",
     "shell.execute_reply": "2020-10-12T09:14:00.056561Z"
    },
    "executionInfo": {
     "elapsed": 4,
     "status": "ok",
     "timestamp": 1702272949012,
     "user": {
      "displayName": "정지원",
      "userId": "16823124283758121408"
     },
     "user_tz": -540
    },
    "id": "Qzwsp3pl6k2R",
    "outputId": "003350de-2a30-4a84-b1f2-b394c1a32909"
   },
   "outputs": [
    {
     "data": {
      "image/png": "[encoded data removed]",
      "text/plain": [
       "<Figure size 640x480 with 1 Axes>"
      ]
     },
     "metadata": {},
     "output_type": "display_data"
    }
   ],
   "source": [
    "plt.plot(history.history['loss'])\n",
    "plt.plot(history.history['val_loss'])\n",
    "plt.xlabel('epoch')\n",
    "plt.ylabel('loss')\n",
    "plt.legend(['train', 'val'])\n",
    "plt.show() # train, val loss 출력(시각화)"
   ]
  },
  {
   "cell_type": "markdown",
   "metadata": {
    "id": "DKtQByM96k2S"
   },
   "source": [
    "## 2개의 층을 연결하기"
   ]
  },
  {
   "cell_type": "code",
   "execution_count": 11,
   "metadata": {
    "colab": {
     "base_uri": "https://localhost:8080/"
    },
    "execution": {
     "iopub.execute_input": "2020-10-12T09:14:00.069924Z",
     "iopub.status.busy": "2020-10-12T09:14:00.068581Z",
     "iopub.status.idle": "2020-10-12T09:14:00.459073Z",
     "shell.execute_reply": "2020-10-12T09:14:00.460006Z"
    },
    "executionInfo": {
     "elapsed": 727,
     "status": "ok",
     "timestamp": 1702272949737,
     "user": {
      "displayName": "정지원",
      "userId": "16823124283758121408"
     },
     "user_tz": -540
    },
    "id": "YkQboCpD6k2S",
    "outputId": "5ab92526-6856-4f97-8443-ea825a7f2f55"
   },
   "outputs": [
    {
     "name": "stdout",
     "output_type": "stream",
     "text": [
      "Model: \"sequential_3\"\n",
      "_________________________________________________________________\n",
      " Layer (type)                Output Shape              Param #   \n",
      "=================================================================\n",
      " embedding_3 (Embedding)     (None, 100, 16)           8000      \n",
      "                                                                 \n",
      " lstm_3 (LSTM)               (None, 100, 8)            800       \n",
      "                                                                 \n",
      " lstm_4 (LSTM)               (None, 8)                 544       \n",
      "                                                                 \n",
      " dense_3 (Dense)             (None, 1)                 9         \n",
      "                                                                 \n",
      "=================================================================\n",
      "Total params: 9353 (36.54 KB)\n",
      "Trainable params: 9353 (36.54 KB)\n",
      "Non-trainable params: 0 (0.00 Byte)\n",
      "_________________________________________________________________\n"
     ]
    }
   ],
   "source": [
    "model3 = keras.Sequential()\n",
    "\n",
    "model3.add(keras.layers.Embedding(500, 16, input_length=100))\n",
    "model3.add(keras.layers.LSTM(8, dropout=0.3, return_sequences=True))\n",
    "model3.add(keras.layers.LSTM(8, dropout=0.3))\n",
    "model3.add(keras.layers.Dense(1, activation='sigmoid'))\n",
    "# LSTM을 2층 쌓음\n",
    "model3.summary()"
   ]
  },
  {
   "cell_type": "code",
   "execution_count": 12,
   "metadata": {
    "colab": {
     "base_uri": "https://localhost:8080/"
    },
    "execution": {
     "iopub.execute_input": "2020-10-12T09:14:00.485178Z",
     "iopub.status.busy": "2020-10-12T09:14:00.483959Z",
     "iopub.status.idle": "2020-10-12T09:20:24.570047Z",
     "shell.execute_reply": "2020-10-12T09:20:24.571421Z"
    },
    "executionInfo": {
     "elapsed": 212357,
     "status": "ok",
     "timestamp": 1702273162090,
     "user": {
      "displayName": "정지원",
      "userId": "16823124283758121408"
     },
     "user_tz": -540
    },
    "id": "hDk_ffAo6k2S",
    "outputId": "31dd0075-9024-4805-c99d-2d3d4642f9f6"
   },
   "outputs": [
    {
     "name": "stdout",
     "output_type": "stream",
     "text": [
      "Epoch 1/100\n",
      "313/313 [==============================] - 11s 26ms/step - loss: 0.6924 - accuracy: 0.5397 - val_loss: 0.6914 - val_accuracy: 0.5470\n",
      "Epoch 2/100\n",
      "313/313 [==============================] - 4s 12ms/step - loss: 0.6869 - accuracy: 0.5939 - val_loss: 0.6787 - val_accuracy: 0.6542\n",
      "Epoch 3/100\n",
      "313/313 [==============================] - 4s 14ms/step - loss: 0.6430 - accuracy: 0.6713 - val_loss: 0.5963 - val_accuracy: 0.7078\n",
      "Epoch 4/100\n",
      "313/313 [==============================] - 5s 16ms/step - loss: 0.5765 - accuracy: 0.7149 - val_loss: 0.5551 - val_accuracy: 0.7296\n",
      "Epoch 5/100\n",
      "313/313 [==============================] - 4s 12ms/step - loss: 0.5481 - accuracy: 0.7347 - val_loss: 0.5340 - val_accuracy: 0.7442\n",
      "Epoch 6/100\n",
      "313/313 [==============================] - 4s 13ms/step - loss: 0.5289 - accuracy: 0.7491 - val_loss: 0.5122 - val_accuracy: 0.7596\n",
      "Epoch 7/100\n",
      "313/313 [==============================] - 5s 16ms/step - loss: 0.5115 - accuracy: 0.7595 - val_loss: 0.4986 - val_accuracy: 0.7694\n",
      "Epoch 8/100\n",
      "313/313 [==============================] - 4s 12ms/step - loss: 0.4981 - accuracy: 0.7664 - val_loss: 0.4878 - val_accuracy: 0.7732\n",
      "Epoch 9/100\n",
      "313/313 [==============================] - 4s 12ms/step - loss: 0.4908 - accuracy: 0.7724 - val_loss: 0.4797 - val_accuracy: 0.7774\n",
      "Epoch 10/100\n",
      "313/313 [==============================] - 5s 16ms/step - loss: 0.4804 - accuracy: 0.7766 - val_loss: 0.4742 - val_accuracy: 0.7812\n",
      "Epoch 11/100\n",
      "313/313 [==============================] - 4s 12ms/step - loss: 0.4745 - accuracy: 0.7806 - val_loss: 0.4680 - val_accuracy: 0.7834\n",
      "Epoch 12/100\n",
      "313/313 [==============================] - 4s 12ms/step - loss: 0.4673 - accuracy: 0.7846 - val_loss: 0.4641 - val_accuracy: 0.7844\n",
      "Epoch 13/100\n",
      "313/313 [==============================] - 5s 15ms/step - loss: 0.4629 - accuracy: 0.7863 - val_loss: 0.4615 - val_accuracy: 0.7858\n",
      "Epoch 14/100\n",
      "313/313 [==============================] - 4s 14ms/step - loss: 0.4598 - accuracy: 0.7882 - val_loss: 0.4575 - val_accuracy: 0.7876\n",
      "Epoch 15/100\n",
      "313/313 [==============================] - 4s 12ms/step - loss: 0.4561 - accuracy: 0.7890 - val_loss: 0.4574 - val_accuracy: 0.7898\n",
      "Epoch 16/100\n",
      "313/313 [==============================] - 4s 14ms/step - loss: 0.4552 - accuracy: 0.7898 - val_loss: 0.4543 - val_accuracy: 0.7860\n",
      "Epoch 17/100\n",
      "313/313 [==============================] - 5s 15ms/step - loss: 0.4514 - accuracy: 0.7911 - val_loss: 0.4521 - val_accuracy: 0.7884\n",
      "Epoch 18/100\n",
      "313/313 [==============================] - 4s 12ms/step - loss: 0.4472 - accuracy: 0.7954 - val_loss: 0.4492 - val_accuracy: 0.7886\n",
      "Epoch 19/100\n",
      "313/313 [==============================] - 4s 12ms/step - loss: 0.4459 - accuracy: 0.7965 - val_loss: 0.4522 - val_accuracy: 0.7926\n",
      "Epoch 20/100\n",
      "313/313 [==============================] - 5s 17ms/step - loss: 0.4441 - accuracy: 0.7976 - val_loss: 0.4473 - val_accuracy: 0.7906\n",
      "Epoch 21/100\n",
      "313/313 [==============================] - 4s 12ms/step - loss: 0.4416 - accuracy: 0.7991 - val_loss: 0.4513 - val_accuracy: 0.7886\n",
      "Epoch 22/100\n",
      "313/313 [==============================] - 4s 12ms/step - loss: 0.4408 - accuracy: 0.7952 - val_loss: 0.4460 - val_accuracy: 0.7914\n",
      "Epoch 23/100\n",
      "313/313 [==============================] - 5s 15ms/step - loss: 0.4391 - accuracy: 0.7992 - val_loss: 0.4440 - val_accuracy: 0.7952\n",
      "Epoch 24/100\n",
      "313/313 [==============================] - 4s 13ms/step - loss: 0.4374 - accuracy: 0.7986 - val_loss: 0.4426 - val_accuracy: 0.7964\n",
      "Epoch 25/100\n",
      "313/313 [==============================] - 4s 12ms/step - loss: 0.4369 - accuracy: 0.8015 - val_loss: 0.4453 - val_accuracy: 0.7892\n",
      "Epoch 26/100\n",
      "313/313 [==============================] - 5s 16ms/step - loss: 0.4339 - accuracy: 0.8000 - val_loss: 0.4531 - val_accuracy: 0.7926\n",
      "Epoch 27/100\n",
      "313/313 [==============================] - 4s 13ms/step - loss: 0.4327 - accuracy: 0.8012 - val_loss: 0.4412 - val_accuracy: 0.7936\n",
      "Epoch 28/100\n",
      "313/313 [==============================] - 4s 12ms/step - loss: 0.4333 - accuracy: 0.8040 - val_loss: 0.4409 - val_accuracy: 0.7952\n",
      "Epoch 29/100\n",
      "313/313 [==============================] - 4s 13ms/step - loss: 0.4347 - accuracy: 0.8018 - val_loss: 0.4416 - val_accuracy: 0.7988\n",
      "Epoch 30/100\n",
      "313/313 [==============================] - 5s 16ms/step - loss: 0.4314 - accuracy: 0.8035 - val_loss: 0.4398 - val_accuracy: 0.7968\n",
      "Epoch 31/100\n",
      "313/313 [==============================] - 4s 12ms/step - loss: 0.4288 - accuracy: 0.8043 - val_loss: 0.4400 - val_accuracy: 0.7964\n",
      "Epoch 32/100\n",
      "313/313 [==============================] - 4s 12ms/step - loss: 0.4316 - accuracy: 0.8036 - val_loss: 0.4415 - val_accuracy: 0.7912\n",
      "Epoch 33/100\n",
      "313/313 [==============================] - 5s 16ms/step - loss: 0.4292 - accuracy: 0.8039 - val_loss: 0.4397 - val_accuracy: 0.7936\n",
      "Epoch 34/100\n",
      "313/313 [==============================] - 4s 12ms/step - loss: 0.4308 - accuracy: 0.8022 - val_loss: 0.4383 - val_accuracy: 0.7964\n",
      "Epoch 35/100\n",
      "313/313 [==============================] - 4s 12ms/step - loss: 0.4294 - accuracy: 0.8059 - val_loss: 0.4374 - val_accuracy: 0.7966\n",
      "Epoch 36/100\n",
      "313/313 [==============================] - 4s 14ms/step - loss: 0.4285 - accuracy: 0.8064 - val_loss: 0.4369 - val_accuracy: 0.7992\n",
      "Epoch 37/100\n",
      "313/313 [==============================] - 4s 14ms/step - loss: 0.4277 - accuracy: 0.8030 - val_loss: 0.4392 - val_accuracy: 0.7918\n",
      "Epoch 38/100\n",
      "313/313 [==============================] - 4s 12ms/step - loss: 0.4267 - accuracy: 0.8044 - val_loss: 0.4365 - val_accuracy: 0.7996\n",
      "Epoch 39/100\n",
      "313/313 [==============================] - 4s 12ms/step - loss: 0.4249 - accuracy: 0.8070 - val_loss: 0.4363 - val_accuracy: 0.8000\n",
      "Epoch 40/100\n",
      "313/313 [==============================] - 5s 16ms/step - loss: 0.4258 - accuracy: 0.8048 - val_loss: 0.4361 - val_accuracy: 0.7988\n",
      "Epoch 41/100\n",
      "313/313 [==============================] - 4s 12ms/step - loss: 0.4245 - accuracy: 0.8072 - val_loss: 0.4369 - val_accuracy: 0.7946\n",
      "Epoch 42/100\n",
      "313/313 [==============================] - 4s 12ms/step - loss: 0.4242 - accuracy: 0.8060 - val_loss: 0.4357 - val_accuracy: 0.8016\n",
      "Epoch 43/100\n",
      "313/313 [==============================] - 5s 16ms/step - loss: 0.4254 - accuracy: 0.8064 - val_loss: 0.4357 - val_accuracy: 0.7962\n",
      "Epoch 44/100\n",
      "313/313 [==============================] - 4s 12ms/step - loss: 0.4218 - accuracy: 0.8084 - val_loss: 0.4353 - val_accuracy: 0.8024\n",
      "Epoch 45/100\n",
      "313/313 [==============================] - 4s 12ms/step - loss: 0.4227 - accuracy: 0.8075 - val_loss: 0.4355 - val_accuracy: 0.8014\n",
      "Epoch 46/100\n",
      "313/313 [==============================] - 5s 15ms/step - loss: 0.4222 - accuracy: 0.8088 - val_loss: 0.4349 - val_accuracy: 0.8050\n",
      "Epoch 47/100\n",
      "313/313 [==============================] - 4s 14ms/step - loss: 0.4195 - accuracy: 0.8094 - val_loss: 0.4412 - val_accuracy: 0.7924\n",
      "Epoch 48/100\n",
      "313/313 [==============================] - 4s 12ms/step - loss: 0.4222 - accuracy: 0.8073 - val_loss: 0.4354 - val_accuracy: 0.8008\n",
      "Epoch 49/100\n",
      "313/313 [==============================] - 4s 13ms/step - loss: 0.4191 - accuracy: 0.8088 - val_loss: 0.4360 - val_accuracy: 0.8018\n"
     ]
    }
   ],
   "source": [
    "rmsprop = keras.optimizers.RMSprop(learning_rate=1e-4)\n",
    "model3.compile(optimizer=rmsprop, loss='binary_crossentropy',\n",
    "               metrics=['accuracy'])\n",
    "\n",
    "checkpoint_cb = keras.callbacks.ModelCheckpoint('best-2rnn-model.h5')\n",
    "early_stopping_cb = keras.callbacks.EarlyStopping(patience=3,\n",
    "                                                  restore_best_weights=True)\n",
    "\n",
    "history = model3.fit(train_seq, train_target, epochs=100, batch_size=64,\n",
    "                     validation_data=(val_seq, val_target),\n",
    "                     callbacks=[checkpoint_cb, early_stopping_cb])"
   ]
  },
  {
   "cell_type": "code",
   "execution_count": 13,
   "metadata": {
    "colab": {
     "base_uri": "https://localhost:8080/",
     "height": 449
    },
    "execution": {
     "iopub.execute_input": "2020-10-12T09:20:24.599872Z",
     "iopub.status.busy": "2020-10-12T09:20:24.598716Z",
     "iopub.status.idle": "2020-10-12T09:20:25.172291Z",
     "shell.execute_reply": "2020-10-12T09:20:25.173681Z"
    },
    "executionInfo": {
     "elapsed": 9,
     "status": "ok",
     "timestamp": 1702273162090,
     "user": {
      "displayName": "정지원",
      "userId": "16823124283758121408"
     },
     "user_tz": -540
    },
    "id": "1paBqczf6k2S",
    "outputId": "85fa29f1-caf1-4209-be63-b3c4e4d98fc1"
   },
   "outputs": [
    {
     "data": {
      "image/png": "[encoded data removed]",
      "text/plain": [
       "<Figure size 640x480 with 1 Axes>"
      ]
     },
     "metadata": {},
     "output_type": "display_data"
    }
   ],
   "source": [
    "plt.plot(history.history['loss'])\n",
    "plt.plot(history.history['val_loss'])\n",
    "plt.xlabel('epoch')\n",
    "plt.ylabel('loss')\n",
    "plt.legend(['train', 'val'])\n",
    "plt.show()"
   ]
  },
  {
   "cell_type": "markdown",
   "metadata": {
    "id": "Jisn0P9h6k2T"
   },
   "source": [
    "## GRU 신경망 훈련하기"
   ]
  },
  {
   "cell_type": "code",
   "execution_count": 14,
   "metadata": {
    "colab": {
     "base_uri": "https://localhost:8080/"
    },
    "execution": {
     "iopub.execute_input": "2020-10-12T09:20:25.189832Z",
     "iopub.status.busy": "2020-10-12T09:20:25.188004Z",
     "iopub.status.idle": "2020-10-12T09:20:25.402624Z",
     "shell.execute_reply": "2020-10-12T09:20:25.401128Z"
    },
    "executionInfo": {
     "elapsed": 761,
     "status": "ok",
     "timestamp": 1702273162845,
     "user": {
      "displayName": "정지원",
      "userId": "16823124283758121408"
     },
     "user_tz": -540
    },
    "id": "dwYF578d6k2T",
    "outputId": "001c1d5b-952a-4b2a-ef7f-1efaba9bd2d2"
   },
   "outputs": [
    {
     "name": "stdout",
     "output_type": "stream",
     "text": [
      "Model: \"sequential_4\"\n",
      "_________________________________________________________________\n",
      " Layer (type)                Output Shape              Param #   \n",
      "=================================================================\n",
      " embedding_4 (Embedding)     (None, 100, 16)           8000      \n",
      "                                                                 \n",
      " gru (GRU)                   (None, 8)                 624       \n",
      "                                                                 \n",
      " dense_4 (Dense)             (None, 1)                 9         \n",
      "                                                                 \n",
      "=================================================================\n",
      "Total params: 8633 (33.72 KB)\n",
      "Trainable params: 8633 (33.72 KB)\n",
      "Non-trainable params: 0 (0.00 Byte)\n",
      "_________________________________________________________________\n"
     ]
    }
   ],
   "source": [
    "model4 = keras.Sequential()\n",
    "\n",
    "model4.add(keras.layers.Embedding(500, 16, input_length=100))\n",
    "model4.add(keras.layers.GRU(8)) # LSTM대신 GRU사용\n",
    "model4.add(keras.layers.Dense(1, activation='sigmoid'))\n",
    "\n",
    "model4.summary()"
   ]
  },
  {
   "cell_type": "code",
   "execution_count": 15,
   "metadata": {
    "colab": {
     "base_uri": "https://localhost:8080/"
    },
    "execution": {
     "iopub.execute_input": "2020-10-12T09:20:25.420177Z",
     "iopub.status.busy": "2020-10-12T09:20:25.419630Z",
     "iopub.status.idle": "2020-10-12T09:25:10.574200Z",
     "shell.execute_reply": "2020-10-12T09:25:10.575704Z"
    },
    "executionInfo": {
     "elapsed": 103943,
     "status": "ok",
     "timestamp": 1702273266784,
     "user": {
      "displayName": "정지원",
      "userId": "16823124283758121408"
     },
     "user_tz": -540
    },
    "id": "j2SfOZ3v6k2U",
    "outputId": "23a41eea-4654-47a8-9d0a-e296566f0d6a"
   },
   "outputs": [
    {
     "name": "stdout",
     "output_type": "stream",
     "text": [
      "Epoch 1/100\n",
      "313/313 [==============================] - 8s 17ms/step - loss: 0.6917 - accuracy: 0.5434 - val_loss: 0.6909 - val_accuracy: 0.5588\n",
      "Epoch 2/100\n",
      "313/313 [==============================] - 3s 9ms/step - loss: 0.6887 - accuracy: 0.5885 - val_loss: 0.6874 - val_accuracy: 0.5880\n",
      "Epoch 3/100\n",
      "313/313 [==============================] - 3s 11ms/step - loss: 0.6841 - accuracy: 0.6126 - val_loss: 0.6820 - val_accuracy: 0.6052\n",
      "Epoch 4/100\n",
      "313/313 [==============================] - 3s 10ms/step - loss: 0.6765 - accuracy: 0.6256 - val_loss: 0.6732 - val_accuracy: 0.6246\n",
      "Epoch 5/100\n",
      "313/313 [==============================] - 3s 8ms/step - loss: 0.6642 - accuracy: 0.6432 - val_loss: 0.6581 - val_accuracy: 0.6370\n",
      "Epoch 6/100\n",
      "313/313 [==============================] - 3s 8ms/step - loss: 0.6439 - accuracy: 0.6602 - val_loss: 0.6326 - val_accuracy: 0.6620\n",
      "Epoch 7/100\n",
      "313/313 [==============================] - 3s 8ms/step - loss: 0.6077 - accuracy: 0.6906 - val_loss: 0.5853 - val_accuracy: 0.7128\n",
      "Epoch 8/100\n",
      "313/313 [==============================] - 4s 12ms/step - loss: 0.5420 - accuracy: 0.7388 - val_loss: 0.5277 - val_accuracy: 0.7408\n",
      "Epoch 9/100\n",
      "313/313 [==============================] - 3s 9ms/step - loss: 0.5082 - accuracy: 0.7591 - val_loss: 0.5109 - val_accuracy: 0.7574\n",
      "Epoch 10/100\n",
      "313/313 [==============================] - 3s 8ms/step - loss: 0.4926 - accuracy: 0.7692 - val_loss: 0.4988 - val_accuracy: 0.7628\n",
      "Epoch 11/100\n",
      "313/313 [==============================] - 3s 8ms/step - loss: 0.4796 - accuracy: 0.7771 - val_loss: 0.4903 - val_accuracy: 0.7696\n",
      "Epoch 12/100\n",
      "313/313 [==============================] - 2s 8ms/step - loss: 0.4690 - accuracy: 0.7839 - val_loss: 0.4814 - val_accuracy: 0.7760\n",
      "Epoch 13/100\n",
      "313/313 [==============================] - 4s 12ms/step - loss: 0.4605 - accuracy: 0.7893 - val_loss: 0.4770 - val_accuracy: 0.7768\n",
      "Epoch 14/100\n",
      "313/313 [==============================] - 3s 9ms/step - loss: 0.4532 - accuracy: 0.7939 - val_loss: 0.4722 - val_accuracy: 0.7778\n",
      "Epoch 15/100\n",
      "313/313 [==============================] - 3s 8ms/step - loss: 0.4481 - accuracy: 0.7983 - val_loss: 0.4718 - val_accuracy: 0.7788\n",
      "Epoch 16/100\n",
      "313/313 [==============================] - 3s 8ms/step - loss: 0.4429 - accuracy: 0.8019 - val_loss: 0.4638 - val_accuracy: 0.7836\n",
      "Epoch 17/100\n",
      "313/313 [==============================] - 3s 9ms/step - loss: 0.4392 - accuracy: 0.8051 - val_loss: 0.4619 - val_accuracy: 0.7848\n",
      "Epoch 18/100\n",
      "313/313 [==============================] - 4s 12ms/step - loss: 0.4359 - accuracy: 0.8061 - val_loss: 0.4600 - val_accuracy: 0.7848\n",
      "Epoch 19/100\n",
      "313/313 [==============================] - 3s 9ms/step - loss: 0.4332 - accuracy: 0.8083 - val_loss: 0.4583 - val_accuracy: 0.7884\n",
      "Epoch 20/100\n",
      "313/313 [==============================] - 2s 8ms/step - loss: 0.4307 - accuracy: 0.8106 - val_loss: 0.4585 - val_accuracy: 0.7880\n",
      "Epoch 21/100\n",
      "313/313 [==============================] - 2s 8ms/step - loss: 0.4289 - accuracy: 0.8109 - val_loss: 0.4560 - val_accuracy: 0.7888\n",
      "Epoch 22/100\n",
      "313/313 [==============================] - 3s 9ms/step - loss: 0.4273 - accuracy: 0.8113 - val_loss: 0.4574 - val_accuracy: 0.7906\n",
      "Epoch 23/100\n",
      "313/313 [==============================] - 3s 11ms/step - loss: 0.4258 - accuracy: 0.8134 - val_loss: 0.4519 - val_accuracy: 0.7912\n",
      "Epoch 24/100\n",
      "313/313 [==============================] - 3s 8ms/step - loss: 0.4249 - accuracy: 0.8134 - val_loss: 0.4518 - val_accuracy: 0.7908\n",
      "Epoch 25/100\n",
      "313/313 [==============================] - 3s 8ms/step - loss: 0.4234 - accuracy: 0.8137 - val_loss: 0.4519 - val_accuracy: 0.7914\n",
      "Epoch 26/100\n",
      "313/313 [==============================] - 2s 8ms/step - loss: 0.4227 - accuracy: 0.8138 - val_loss: 0.4491 - val_accuracy: 0.7928\n",
      "Epoch 27/100\n",
      "313/313 [==============================] - 3s 10ms/step - loss: 0.4215 - accuracy: 0.8142 - val_loss: 0.4492 - val_accuracy: 0.7906\n",
      "Epoch 28/100\n",
      "313/313 [==============================] - 3s 10ms/step - loss: 0.4208 - accuracy: 0.8145 - val_loss: 0.4486 - val_accuracy: 0.7918\n",
      "Epoch 29/100\n",
      "313/313 [==============================] - 3s 8ms/step - loss: 0.4200 - accuracy: 0.8143 - val_loss: 0.4491 - val_accuracy: 0.7924\n",
      "Epoch 30/100\n",
      "313/313 [==============================] - 2s 8ms/step - loss: 0.4193 - accuracy: 0.8129 - val_loss: 0.4479 - val_accuracy: 0.7922\n",
      "Epoch 31/100\n",
      "313/313 [==============================] - 3s 8ms/step - loss: 0.4191 - accuracy: 0.8151 - val_loss: 0.4465 - val_accuracy: 0.7926\n",
      "Epoch 32/100\n",
      "313/313 [==============================] - 3s 10ms/step - loss: 0.4184 - accuracy: 0.8148 - val_loss: 0.4462 - val_accuracy: 0.7922\n",
      "Epoch 33/100\n",
      "313/313 [==============================] - 3s 10ms/step - loss: 0.4177 - accuracy: 0.8141 - val_loss: 0.4475 - val_accuracy: 0.7908\n",
      "Epoch 34/100\n",
      "313/313 [==============================] - 2s 8ms/step - loss: 0.4174 - accuracy: 0.8159 - val_loss: 0.4473 - val_accuracy: 0.7932\n",
      "Epoch 35/100\n",
      "313/313 [==============================] - 3s 8ms/step - loss: 0.4170 - accuracy: 0.8148 - val_loss: 0.4469 - val_accuracy: 0.7914\n"
     ]
    }
   ],
   "source": [
    "rmsprop = keras.optimizers.RMSprop(learning_rate=1e-4)\n",
    "model4.compile(optimizer=rmsprop, loss='binary_crossentropy',\n",
    "               metrics=['accuracy'])\n",
    "\n",
    "checkpoint_cb = keras.callbacks.ModelCheckpoint('best-gru-model.h5')\n",
    "early_stopping_cb = keras.callbacks.EarlyStopping(patience=3,\n",
    "                                                  restore_best_weights=True)\n",
    "\n",
    "history = model4.fit(train_seq, train_target, epochs=100, batch_size=64,\n",
    "                     validation_data=(val_seq, val_target),\n",
    "                     callbacks=[checkpoint_cb, early_stopping_cb])"
   ]
  },
  {
   "cell_type": "code",
   "execution_count": 16,
   "metadata": {
    "colab": {
     "base_uri": "https://localhost:8080/",
     "height": 449
    },
    "execution": {
     "iopub.execute_input": "2020-10-12T09:25:10.602797Z",
     "iopub.status.busy": "2020-10-12T09:25:10.601459Z",
     "iopub.status.idle": "2020-10-12T09:25:11.203520Z",
     "shell.execute_reply": "2020-10-12T09:25:11.202193Z"
    },
    "executionInfo": {
     "elapsed": 40987,
     "status": "ok",
     "timestamp": 1702273307766,
     "user": {
      "displayName": "정지원",
      "userId": "16823124283758121408"
     },
     "user_tz": -540
    },
    "id": "3yUJM4nA6k2U",
    "outputId": "29b95851-e900-4713-e5fd-a22494863a05"
   },
   "outputs": [
    {
     "data": {
      "image/png": "[encoded data removed]",
      "text/plain": [
       "<Figure size 640x480 with 1 Axes>"
      ]
     },
     "metadata": {},
     "output_type": "display_data"
    }
   ],
   "source": [
    "plt.plot(history.history['loss'])\n",
    "plt.plot(history.history['val_loss'])\n",
    "plt.xlabel('epoch')\n",
    "plt.ylabel('loss')\n",
    "plt.legend(['train', 'val'])\n",
    "plt.show()"
   ]
  },
  {
   "cell_type": "markdown",
   "metadata": {
    "id": "Ja3-116b6k2V"
   },
   "source": [
    "## 마무리"
   ]
  },
  {
   "cell_type": "code",
   "execution_count": 17,
   "metadata": {
    "colab": {
     "base_uri": "https://localhost:8080/"
    },
    "executionInfo": {
     "elapsed": 6519,
     "status": "ok",
     "timestamp": 1702273314281,
     "user": {
      "displayName": "정지원",
      "userId": "16823124283758121408"
     },
     "user_tz": -540
    },
    "id": "-5WtFRN-6k2V",
    "outputId": "7580cd9f-fc7a-43dd-ecd2-c5c1c619a2de"
   },
   "outputs": [
    {
     "name": "stdout",
     "output_type": "stream",
     "text": [
      "782/782 [==============================] - 6s 6ms/step - loss: 0.4295 - accuracy: 0.7986\n"
     ]
    },
    {
     "data": {
      "text/plain": [
       "[0.42945054173469543, 0.7986400127410889]"
      ]
     },
     "execution_count": 17,
     "metadata": {},
     "output_type": "execute_result"
    }
   ],
   "source": [
    "test_seq = pad_sequences(test_input, maxlen=100)\n",
    "# maxlen=100으로 설정하여 test_input의 길이를 100으로 맞춤\n",
    "rnn_model = keras.models.load_model('best-2rnn-model.h5')\n",
    "# 텐서플로 2.3에서는 버그(https://github.com/tensorflow/tensorflow/issues/42890) 때문에 compile() 메서드를 호출해야 합니다.\n",
    "# rnn_model.compile(optimizer='rmsprop', loss='binary_crossentropy', metrics='accuracy')\n",
    "\n",
    "rnn_model.evaluate(test_seq, test_target)"
   ]
  },
  {
   "cell_type": "code",
   "execution_count": null,
   "metadata": {
    "id": "140zRmDYXU4y"
   },
   "outputs": [],
   "source": []
  }
 ],
 "metadata": {
  "accelerator": "GPU",
  "colab": {
   "gpuType": "T4",
   "provenance": []
  },
  "kernelspec": {
   "display_name": "Python 3 (ipykernel)",
   "language": "python",
   "name": "python3"
  },
  "language_info": {
   "codemirror_mode": {
    "name": "ipython",
    "version": 3
   },
   "file_extension": ".py",
   "mimetype": "text/x-python",
   "name": "python",
   "nbconvert_exporter": "python",
   "pygments_lexer": "ipython3",
   "version": "3.9.12"
  }
 },
 "nbformat": 4,
 "nbformat_minor": 1
}
