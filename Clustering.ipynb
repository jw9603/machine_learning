{
  "nbformat": 4,
  "nbformat_minor": 0,
  "metadata": {
    "colab": {
      "name": "Clustering",
      "provenance": [],
      "include_colab_link": true
    },
    "kernelspec": {
      "name": "python3",
      "display_name": "Python 3"
    }
  },
  "cells": [
    {
      "cell_type": "markdown",
      "metadata": {
        "id": "view-in-github",
        "colab_type": "text"
      },
      "source": [
        "<a href=\"https://colab.research.google.com/github/jw9603/machine_learning/blob/main/Clustering.ipynb\" target=\"_parent\"><img src=\"https://colab.research.google.com/assets/colab-badge.svg\" alt=\"Open In Colab\"/></a>"
      ]
    },
    {
      "cell_type": "markdown",
      "metadata": {
        "id": "gTqFJOp7sTR3"
      },
      "source": [
        "### Download a data file"
      ]
    },
    {
      "cell_type": "code",
      "metadata": {
        "colab": {
          "base_uri": "https://localhost:8080/"
        },
        "id": "o6GOU4yWkb04",
        "outputId": "06259816-97d6-42f7-9d7e-15bfe0e151ee"
      },
      "source": [
        "!gdown --id 17tVCeR86jzDnpwTkxaxHKXP5k1iWO2T9"
      ],
      "execution_count": null,
      "outputs": [
        {
          "output_type": "stream",
          "text": [
            "Downloading...\n",
            "From: https://drive.google.com/uc?id=17tVCeR86jzDnpwTkxaxHKXP5k1iWO2T9\n",
            "To: /content/USArrests.csv\n",
            "\r  0% 0.00/1.39k [00:00<?, ?B/s]\r100% 1.39k/1.39k [00:00<00:00, 2.63MB/s]\n"
          ],
          "name": "stdout"
        }
      ]
    },
    {
      "cell_type": "markdown",
      "metadata": {
        "id": "NVgb18Y7sWp7"
      },
      "source": [
        "### Import libraries"
      ]
    },
    {
      "cell_type": "code",
      "metadata": {
        "id": "M5XfiMn_sXb0"
      },
      "source": [
        "from sklearn.cluster import KMeans, DBSCAN\n",
        "import matplotlib.pyplot as plt\n",
        "import numpy as np\n",
        "import matplotlib\n",
        "import pandas as pd\n",
        "from sklearn.mixture import GaussianMixture\n",
        "from matplotlib.patches import Ellipse\n",
        "from scipy.stats import chi2\n",
        "from IPython.display import Image"
      ],
      "execution_count": null,
      "outputs": []
    },
    {
      "cell_type": "code",
      "metadata": {
        "id": "Ux_sWb4HtDDd"
      },
      "source": [
        "def plot_cov_ellipse(ax, cov, pos, volume=.5, fc='none', ec=[0, 0, 0], a=1., lw=2.):\n",
        "    def eigsorted(cov):\n",
        "        vals, vecs = np.linalg.eigh(cov)\n",
        "        order = vals.argsort()[::-1]\n",
        "        return vals[order], vecs[:, order]\n",
        "\n",
        "    vals, vecs = eigsorted(cov)\n",
        "    theta = np.degrees(np.arctan2(*vecs[:, 0][::-1]))\n",
        "    kwrg = {'facecolor': fc, 'edgecolor': ec, 'alpha': a, 'linewidth': lw}\n",
        "\n",
        "    width, height = 2 * np.sqrt(chi2.ppf(volume, 2)) * np.sqrt(vals)\n",
        "    ellip = Ellipse(xy=pos, width=width, height=height, angle=theta, **kwrg)\n",
        "\n",
        "    ax.add_artist(ellip)\n",
        "    return ax"
      ],
      "execution_count": null,
      "outputs": []
    },
    {
      "cell_type": "code",
      "metadata": {
        "colab": {
          "base_uri": "https://localhost:8080/"
        },
        "id": "1mg7E3fCsbc8",
        "outputId": "c8821524-017e-46fb-f934-074b90125a7c"
      },
      "source": [
        "# Load the data file\n",
        "data = pd.read_csv(\"./USArrests.csv\", header=0)\n",
        "\n",
        "print(data)\n",
        "\n",
        "x_mat = data[['Murder', 'Assault']].to_numpy()"
      ],
      "execution_count": null,
      "outputs": [
        {
          "output_type": "stream",
          "text": [
            "        Unnamed: 0  Murder  Assault  UrbanPop  Rape\n",
            "0          Alabama    13.2      236        58  21.2\n",
            "1           Alaska    10.0      263        48  44.5\n",
            "2          Arizona     8.1      294        80  31.0\n",
            "3         Arkansas     8.8      190        50  19.5\n",
            "4       California     9.0      276        91  40.6\n",
            "5         Colorado     7.9      204        78  38.7\n",
            "6      Connecticut     3.3      110        77  11.1\n",
            "7         Delaware     5.9      238        72  15.8\n",
            "8          Florida    15.4      335        80  31.9\n",
            "9          Georgia    17.4      211        60  25.8\n",
            "10          Hawaii     5.3       46        83  20.2\n",
            "11           Idaho     2.6      120        54  14.2\n",
            "12        Illinois    10.4      249        83  24.0\n",
            "13         Indiana     7.2      113        65  21.0\n",
            "14            Iowa     2.2       56        57  11.3\n",
            "15          Kansas     6.0      115        66  18.0\n",
            "16        Kentucky     9.7      109        52  16.3\n",
            "17       Louisiana    15.4      249        66  22.2\n",
            "18           Maine     2.1       83        51   7.8\n",
            "19        Maryland    11.3      300        67  27.8\n",
            "20   Massachusetts     4.4      149        85  16.3\n",
            "21        Michigan    12.1      255        74  35.1\n",
            "22       Minnesota     2.7       72        66  14.9\n",
            "23     Mississippi    16.1      259        44  17.1\n",
            "24        Missouri     9.0      178        70  28.2\n",
            "25         Montana     6.0      109        53  16.4\n",
            "26        Nebraska     4.3      102        62  16.5\n",
            "27          Nevada    12.2      252        81  46.0\n",
            "28   New Hampshire     2.1       57        56   9.5\n",
            "29      New Jersey     7.4      159        89  18.8\n",
            "30      New Mexico    11.4      285        70  32.1\n",
            "31        New York    11.1      254        86  26.1\n",
            "32  North Carolina    13.0      337        45  16.1\n",
            "33    North Dakota     0.8       45        44   7.3\n",
            "34            Ohio     7.3      120        75  21.4\n",
            "35        Oklahoma     6.6      151        68  20.0\n",
            "36          Oregon     4.9      159        67  29.3\n",
            "37    Pennsylvania     6.3      106        72  14.9\n",
            "38    Rhode Island     3.4      174        87   8.3\n",
            "39  South Carolina    14.4      279        48  22.5\n",
            "40    South Dakota     3.8       86        45  12.8\n",
            "41       Tennessee    13.2      188        59  26.9\n",
            "42           Texas    12.7      201        80  25.5\n",
            "43            Utah     3.2      120        80  22.9\n",
            "44         Vermont     2.2       48        32  11.2\n",
            "45        Virginia     8.5      156        63  20.7\n",
            "46      Washington     4.0      145        73  26.2\n",
            "47   West Virginia     5.7       81        39   9.3\n",
            "48       Wisconsin     2.6       53        66  10.8\n",
            "49         Wyoming     6.8      161        60  15.6\n"
          ],
          "name": "stdout"
        }
      ]
    },
    {
      "cell_type": "markdown",
      "metadata": {
        "id": "I1GUwHfasgdN"
      },
      "source": [
        "### K-means"
      ]
    },
    {
      "cell_type": "code",
      "metadata": {
        "id": "T3QbT4Pjsihx"
      },
      "source": [
        "def kmeans_func(x_mat, n_clusters=3, rs=108):\n",
        "    labels = range(n_clusters)\n",
        "\n",
        "    kmeans = KMeans(n_clusters=n_clusters, random_state=rs).fit(x_mat)\n",
        "    preds = kmeans.labels_\n",
        "    centers = kmeans.cluster_centers_\n",
        "\n",
        "    # Draw a graph\n",
        "    plt.figure()\n",
        "    cmap = matplotlib.cm.get_cmap('Set1')\n",
        "    for label in labels:\n",
        "        idx = (preds == label)\n",
        "        plt.scatter(x_mat[idx, 0], x_mat[idx, 1], color=cmap(label), marker='.')\n",
        "\n",
        "    plt.scatter(centers[:, 0], centers[:, 1], marker='x', color='black')\n",
        "\n",
        "    file_name = 'kmeans_{}-clusters.png'.format(n_clusters)\n",
        "    plt.savefig(file_name)\n",
        "\n",
        "    Image(file_name)"
      ],
      "execution_count": null,
      "outputs": []
    },
    {
      "cell_type": "code",
      "metadata": {
        "colab": {
          "base_uri": "https://localhost:8080/",
          "height": 268
        },
        "id": "BxD41enJspLb",
        "outputId": "b38b21cd-05c9-41ce-fced-13dfe6bfe75e"
      },
      "source": [
        "kmeans_func(x_mat, n_clusters=2)"
      ],
      "execution_count": null,
      "outputs": [
        {
          "output_type": "display_data",
          "data": {
            "image/png": "[encoded data removed]",
            "text/plain": [
              "<Figure size 432x288 with 1 Axes>"
            ]
          },
          "metadata": {
            "tags": [],
            "needs_background": "light"
          }
        }
      ]
    },
    {
      "cell_type": "code",
      "metadata": {
        "colab": {
          "base_uri": "https://localhost:8080/",
          "height": 268
        },
        "id": "GcrPqIxGsraX",
        "outputId": "6efd5312-ab77-42e6-8452-70b8777fc650"
      },
      "source": [
        "kmeans_func(x_mat, n_clusters=3)"
      ],
      "execution_count": null,
      "outputs": [
        {
          "output_type": "display_data",
          "data": {
            "image/png": "[encoded data removed]",
            "text/plain": [
              "<Figure size 432x288 with 1 Axes>"
            ]
          },
          "metadata": {
            "tags": [],
            "needs_background": "light"
          }
        }
      ]
    },
    {
      "cell_type": "code",
      "metadata": {
        "colab": {
          "base_uri": "https://localhost:8080/",
          "height": 268
        },
        "id": "WCuTdGPmss2i",
        "outputId": "56a8388b-773d-494e-daf2-878053eb90d4"
      },
      "source": [
        "kmeans_func(x_mat, n_clusters=5)"
      ],
      "execution_count": null,
      "outputs": [
        {
          "output_type": "display_data",
          "data": {
            "image/png": "[encoded data removed]",
            "text/plain": [
              "<Figure size 432x288 with 1 Axes>"
            ]
          },
          "metadata": {
            "tags": [],
            "needs_background": "light"
          }
        }
      ]
    },
    {
      "cell_type": "markdown",
      "metadata": {
        "id": "W5wCwRlssuIk"
      },
      "source": [
        "### Gaussian Mixture Model"
      ]
    },
    {
      "cell_type": "code",
      "metadata": {
        "id": "ax57EvAns9hp"
      },
      "source": [
        "def gmm_func(x_mat, n_clusters=3, rs=108):\n",
        "    labels = range(n_clusters)\n",
        "\n",
        "    gmm = GaussianMixture(n_components=n_clusters, random_state=rs).fit(x_mat)\n",
        "    means = gmm.means_\n",
        "    covariancs = gmm.covariances_\n",
        "    preds = gmm.predict(x_mat)\n",
        "\n",
        "    fig = plt.figure()\n",
        "    ax = fig.add_subplot(1, 1, 1)\n",
        "\n",
        "    cmap = matplotlib.cm.get_cmap('Set1')\n",
        "\n",
        "    # Scatter plot for each label\n",
        "    for label in labels:\n",
        "        idx = (preds == label)\n",
        "        ax.scatter(x_mat[idx, 0], x_mat[idx, 1], color=cmap(label), marker='.')\n",
        "\n",
        "        cov = covariancs[label, :, :]\n",
        "        mus = means[label, :]\n",
        "        plot_cov_ellipse(ax, cov, mus, volume=.5, fc=cmap(label), a=.5, lw=0)\n",
        "\n",
        "    file_name = 'gmm_{}-clusters.png'.format(n_clusters)\n",
        "    plt.savefig(file_name)\n",
        "\n",
        "    Image(file_name)"
      ],
      "execution_count": null,
      "outputs": []
    },
    {
      "cell_type": "code",
      "metadata": {
        "colab": {
          "base_uri": "https://localhost:8080/",
          "height": 268
        },
        "id": "PLtBnjWmtHbs",
        "outputId": "abdb7549-0704-4bf7-e30c-83c225c972c2"
      },
      "source": [
        "gmm_func(x_mat, n_clusters=2)"
      ],
      "execution_count": null,
      "outputs": [
        {
          "output_type": "display_data",
          "data": {
            "image/png": "[encoded data removed]",
            "text/plain": [
              "<Figure size 432x288 with 1 Axes>"
            ]
          },
          "metadata": {
            "tags": [],
            "needs_background": "light"
          }
        }
      ]
    },
    {
      "cell_type": "code",
      "metadata": {
        "colab": {
          "base_uri": "https://localhost:8080/",
          "height": 268
        },
        "id": "EQNkKcRjtJCB",
        "outputId": "1940059b-45f4-41dd-a2ca-1d73222338bb"
      },
      "source": [
        "gmm_func(x_mat, n_clusters=3)"
      ],
      "execution_count": null,
      "outputs": [
        {
          "output_type": "display_data",
          "data": {
            "image/png": "[encoded data removed]",
            "text/plain": [
              "<Figure size 432x288 with 1 Axes>"
            ]
          },
          "metadata": {
            "tags": [],
            "needs_background": "light"
          }
        }
      ]
    },
    {
      "cell_type": "code",
      "metadata": {
        "colab": {
          "base_uri": "https://localhost:8080/",
          "height": 268
        },
        "id": "0_RO5NJKtI-6",
        "outputId": "99063b4d-3135-493a-8ca2-0f1ff3f9ec25"
      },
      "source": [
        "gmm_func(x_mat, n_clusters=5)"
      ],
      "execution_count": null,
      "outputs": [
        {
          "output_type": "display_data",
          "data": {
            "image/png": "[encoded data removed]",
            "text/plain": [
              "<Figure size 432x288 with 1 Axes>"
            ]
          },
          "metadata": {
            "tags": [],
            "needs_background": "light"
          }
        }
      ]
    },
    {
      "cell_type": "markdown",
      "metadata": {
        "id": "peRef87ztKdN"
      },
      "source": [
        "### DBSCAN"
      ]
    },
    {
      "cell_type": "code",
      "metadata": {
        "id": "xHjuVdFitL37"
      },
      "source": [
        "def dbscan_func(x_mat, eps=25, min_samples=4):\n",
        "    dbscan = DBSCAN(eps=eps, min_samples=min_samples).fit(x_mat)\n",
        "    labels = dbscan.labels_\n",
        "    n_clusters_ = len(set(labels)) - (1 if -1 in labels else 0)\n",
        "\n",
        "    fig = plt.figure()\n",
        "    ax = fig.add_subplot(1, 1, 1)\n",
        "\n",
        "    cmap = matplotlib.cm.get_cmap('Set1')\n",
        "\n",
        "    unique_labels = list(set(labels))\n",
        "\n",
        "    for label in unique_labels:\n",
        "        idx = (labels == label)\n",
        "\n",
        "        for jdx in range(len(idx)):\n",
        "            if idx[jdx]:\n",
        "                ax.scatter(x_mat[jdx][0], x_mat[jdx][1], color=cmap(label), marker='.')\n",
        "\n",
        "    file_name = 'dbscan_{}-eps_{}-minpts.png'.format(eps, min_samples)\n",
        "    plt.savefig(file_name)\n",
        "\n",
        "    Image(file_name)"
      ],
      "execution_count": null,
      "outputs": []
    },
    {
      "cell_type": "code",
      "metadata": {
        "colab": {
          "base_uri": "https://localhost:8080/",
          "height": 268
        },
        "id": "HpMaNFhNtP90",
        "outputId": "396cabf6-b207-4336-9647-b46fa19a992f"
      },
      "source": [
        "dbscan_func(x_mat, eps=25, min_samples=4)"
      ],
      "execution_count": null,
      "outputs": [
        {
          "output_type": "display_data",
          "data": {
            "image/png": "[encoded data removed]",
            "text/plain": [
              "<Figure size 432x288 with 1 Axes>"
            ]
          },
          "metadata": {
            "tags": [],
            "needs_background": "light"
          }
        }
      ]
    },
    {
      "cell_type": "code",
      "metadata": {
        "colab": {
          "base_uri": "https://localhost:8080/",
          "height": 268
        },
        "id": "d33glP6PtRMQ",
        "outputId": "0b7a219b-0d07-4356-f90b-c738949c0834"
      },
      "source": [
        "dbscan_func(x_mat, eps=25, min_samples=10)"
      ],
      "execution_count": null,
      "outputs": [
        {
          "output_type": "display_data",
          "data": {
            "image/png": "[encoded data removed]",
            "text/plain": [
              "<Figure size 432x288 with 1 Axes>"
            ]
          },
          "metadata": {
            "tags": [],
            "needs_background": "light"
          }
        }
      ]
    },
    {
      "cell_type": "code",
      "metadata": {
        "colab": {
          "base_uri": "https://localhost:8080/",
          "height": 268
        },
        "id": "M352ByzUtRI4",
        "outputId": "6375afa6-98ff-4e2d-a29d-be397de60637"
      },
      "source": [
        "dbscan_func(x_mat, eps=5, min_samples=4)"
      ],
      "execution_count": null,
      "outputs": [
        {
          "output_type": "display_data",
          "data": {
            "image/png": "[encoded data removed]",
            "text/plain": [
              "<Figure size 432x288 with 1 Axes>"
            ]
          },
          "metadata": {
            "tags": [],
            "needs_background": "light"
          }
        }
      ]
    }
  ]
}